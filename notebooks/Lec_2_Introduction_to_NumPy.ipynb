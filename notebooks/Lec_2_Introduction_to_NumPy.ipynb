{
  "nbformat": 4,
  "nbformat_minor": 0,
  "metadata": {
    "colab": {
      "provenance": [],
      "collapsed_sections": [
        "rfhVwbE60rIt",
        "Y90NC09xtrFd",
        "UWP1k11zGzhJ",
        "BQvMeERJGwRZ",
        "u096OVhkG-Z_",
        "O0gXNyiUHY9q",
        "J4HBi8Kc1KGO",
        "uLEymIwt1P74"
      ],
      "mount_file_id": "1tMmvAO95eCPHfa7NLE29Dfn8bwOr3RzK",
      "authorship_tag": "ABX9TyPo9eKCt4dfa8zfdvpT9Xa8",
      "include_colab_link": true
    },
    "kernelspec": {
      "name": "python3",
      "display_name": "Python 3"
    },
    "language_info": {
      "name": "python"
    }
  },
  "cells": [
    {
      "cell_type": "markdown",
      "metadata": {
        "id": "view-in-github",
        "colab_type": "text"
      },
      "source": [
        "<a href=\"https://colab.research.google.com/github/XTMay/python-data-science-course/blob/main/notebooks/Lec_2_Introduction_to_NumPy.ipynb\" target=\"_parent\"><img src=\"https://colab.research.google.com/assets/colab-badge.svg\" alt=\"Open In Colab\"/></a>"
      ]
    },
    {
      "cell_type": "markdown",
      "source": [
        "# Lesson 02: Introduction to [NumPy](https://numpy.org/)"
      ],
      "metadata": {
        "id": "zXObiq7rcpIK"
      }
    },
    {
      "cell_type": "markdown",
      "source": [
        "## 🎯 学习目标 / Learning Objectives\n",
        "\n",
        "\t•\t了解 NumPy 是什么及其在数据科学中的作用\n",
        "\t•\t创建 NumPy 数组（ndarray）\n",
        "\t•\t学习常用数组操作（shape, dtype, indexing, slicing）\n",
        "\t•\t使用 NumPy 进行基础数学计算\n",
        "\t•\t练习：编写向量化代码提高效率"
      ],
      "metadata": {
        "id": "ZfgRtt8Wd5EW"
      }
    },
    {
      "cell_type": "markdown",
      "source": [
        "## 🔧 什么是 NumPy？What is NumPy?\n",
        "\n",
        "NumPy（Numerical Python）是 Python 中用于高效数值计算的核心库。\n",
        "它提供了一个强大的 n 维数组对象 ndarray，并支持矢量化操作（无需使用循环）。"
      ],
      "metadata": {
        "id": "p1DbL7Aic280"
      }
    },
    {
      "cell_type": "markdown",
      "source": [
        "### 🔢 创建 NumPy 数组 / Creating NumPy Arrays"
      ],
      "metadata": {
        "id": "V8QKE2K-ct5c"
      }
    },
    {
      "cell_type": "code",
      "source": [
        "import numpy as np"
      ],
      "metadata": {
        "id": "syty0yov0KVX"
      },
      "execution_count": 1,
      "outputs": []
    },
    {
      "cell_type": "code",
      "source": [
        "# 从列表创建数组\n",
        "a = np.array([1, 2, 3, 4])\n",
        "print(\"a =\", a)"
      ],
      "metadata": {
        "colab": {
          "base_uri": "https://localhost:8080/"
        },
        "id": "YcDKi_G10PUw",
        "outputId": "9d68c7e1-a125-4d8c-fd48-93ce1e43bed5"
      },
      "execution_count": 2,
      "outputs": [
        {
          "output_type": "stream",
          "name": "stdout",
          "text": [
            "a = [1 2 3 4]\n"
          ]
        }
      ]
    },
    {
      "cell_type": "code",
      "source": [
        "a"
      ],
      "metadata": {
        "colab": {
          "base_uri": "https://localhost:8080/"
        },
        "id": "_5Rz4zNIoVqY",
        "outputId": "a689f12b-a0ec-4b78-894d-69881cc0e82d"
      },
      "execution_count": 3,
      "outputs": [
        {
          "output_type": "execute_result",
          "data": {
            "text/plain": [
              "array([1, 2, 3, 4])"
            ]
          },
          "metadata": {},
          "execution_count": 3
        }
      ]
    },
    {
      "cell_type": "code",
      "source": [
        "lst = [1, 2, 3, 4]\n",
        "lst"
      ],
      "metadata": {
        "colab": {
          "base_uri": "https://localhost:8080/"
        },
        "id": "kbMZ_HmaoPtQ",
        "outputId": "7b26265b-fd82-4208-c95d-b6224b03733d"
      },
      "execution_count": 4,
      "outputs": [
        {
          "output_type": "execute_result",
          "data": {
            "text/plain": [
              "[1, 2, 3, 4]"
            ]
          },
          "metadata": {},
          "execution_count": 4
        }
      ]
    },
    {
      "cell_type": "code",
      "source": [
        "type(lst)"
      ],
      "metadata": {
        "colab": {
          "base_uri": "https://localhost:8080/"
        },
        "id": "Bbs34ZjsoXPo",
        "outputId": "cfd6af66-3873-476a-86af-a3dd66372a4c"
      },
      "execution_count": 5,
      "outputs": [
        {
          "output_type": "execute_result",
          "data": {
            "text/plain": [
              "list"
            ]
          },
          "metadata": {},
          "execution_count": 5
        }
      ]
    },
    {
      "cell_type": "code",
      "source": [
        "type(a)"
      ],
      "metadata": {
        "colab": {
          "base_uri": "https://localhost:8080/"
        },
        "id": "0qyIAnDfoa6T",
        "outputId": "49171b11-d9cc-4bfa-8c47-969e3fe66e32"
      },
      "execution_count": 6,
      "outputs": [
        {
          "output_type": "execute_result",
          "data": {
            "text/plain": [
              "numpy.ndarray"
            ]
          },
          "metadata": {},
          "execution_count": 6
        }
      ]
    },
    {
      "cell_type": "code",
      "source": [
        "# 创建二维数组\n",
        "b = np.array([[1, 2], [3, 4]])\n",
        "print(\"b =\\n\", b)"
      ],
      "metadata": {
        "colab": {
          "base_uri": "https://localhost:8080/"
        },
        "id": "HSchUqt10SJo",
        "outputId": "ff305156-d3de-4174-d96c-e8cd25f097dd"
      },
      "execution_count": 7,
      "outputs": [
        {
          "output_type": "stream",
          "name": "stdout",
          "text": [
            "b =\n",
            " [[1 2]\n",
            " [3 4]]\n"
          ]
        }
      ]
    },
    {
      "cell_type": "code",
      "source": [
        "# 创建全 0、全 1 和空数组\n",
        "zeros = np.zeros((2, 3)) # row: 2 col: 3\n",
        "ones = np.ones((3, 3))"
      ],
      "metadata": {
        "id": "fa1_Jm270Td-"
      },
      "execution_count": 8,
      "outputs": []
    },
    {
      "cell_type": "code",
      "source": [
        "print(\"Zeros:\\n\", zeros)\n",
        "print(\"Ones:\\n\", ones)"
      ],
      "metadata": {
        "colab": {
          "base_uri": "https://localhost:8080/"
        },
        "id": "4yqLVKw30Vqy",
        "outputId": "721a49ca-40f7-4835-b0f6-7b523b4540f9"
      },
      "execution_count": 9,
      "outputs": [
        {
          "output_type": "stream",
          "name": "stdout",
          "text": [
            "Zeros:\n",
            " [[0. 0. 0.]\n",
            " [0. 0. 0.]]\n",
            "Ones:\n",
            " [[1. 1. 1.]\n",
            " [1. 1. 1.]\n",
            " [1. 1. 1.]]\n"
          ]
        }
      ]
    },
    {
      "cell_type": "code",
      "source": [
        "empty = np.empty((2, 2)) # np.empty() 用于创建一个未初始化的数组，即数组中的元素值是任意的（内存中的垃圾值），不建议直接使用其内容。"
      ],
      "metadata": {
        "id": "Bl-xrZbGEYTj"
      },
      "execution_count": 14,
      "outputs": []
    },
    {
      "cell_type": "code",
      "source": [
        "print(\"Empty:\\n\", empty)"
      ],
      "metadata": {
        "colab": {
          "base_uri": "https://localhost:8080/"
        },
        "id": "tI4_kd1BEacz",
        "outputId": "daa91bb4-6cad-47c2-c342-1f3fd121795e"
      },
      "execution_count": 15,
      "outputs": [
        {
          "output_type": "stream",
          "name": "stdout",
          "text": [
            "Empty:\n",
            " [[4.38274083e-316 0.00000000e+000]\n",
            " [5.33854926e-317 6.89205010e-310]]\n"
          ]
        }
      ]
    },
    {
      "cell_type": "code",
      "source": [
        "# 创建等差数组或等间距数组\n",
        "arange_arr = np.arange(0, 17, 4) # step: 2. start: 0 <= number < end: 10\n",
        "linspace_arr = np.linspace(0, 99, 50) # number of values: 5, start: 0 <= number <= end: 1\n",
        "\n",
        "print(\"Arange:\", arange_arr)\n",
        "print(\"Linspace:\", linspace_arr)"
      ],
      "metadata": {
        "colab": {
          "base_uri": "https://localhost:8080/"
        },
        "id": "McgWE4h20W9S",
        "outputId": "5a210e70-3df0-42e0-abd4-50074db876b1"
      },
      "execution_count": 19,
      "outputs": [
        {
          "output_type": "stream",
          "name": "stdout",
          "text": [
            "Arange: [ 0  4  8 12 16]\n",
            "Linspace: [ 0.          2.02040816  4.04081633  6.06122449  8.08163265 10.10204082\n",
            " 12.12244898 14.14285714 16.16326531 18.18367347 20.20408163 22.2244898\n",
            " 24.24489796 26.26530612 28.28571429 30.30612245 32.32653061 34.34693878\n",
            " 36.36734694 38.3877551  40.40816327 42.42857143 44.44897959 46.46938776\n",
            " 48.48979592 50.51020408 52.53061224 54.55102041 56.57142857 58.59183673\n",
            " 60.6122449  62.63265306 64.65306122 66.67346939 68.69387755 70.71428571\n",
            " 72.73469388 74.75510204 76.7755102  78.79591837 80.81632653 82.83673469\n",
            " 84.85714286 86.87755102 88.89795918 90.91836735 92.93877551 94.95918367\n",
            " 96.97959184 99.        ]\n"
          ]
        }
      ]
    },
    {
      "cell_type": "code",
      "source": [
        "arange_arr = np.arange(10, 26, 3) # step: 3 start <= n < end\n",
        "linspace_arr = np.linspace(1, 100, 10) # number of values: start <= n <= end\n",
        "\n",
        "print(\"Arange:\", arange_arr)\n",
        "print(\"Linspace:\", linspace_arr)"
      ],
      "metadata": {
        "colab": {
          "base_uri": "https://localhost:8080/"
        },
        "id": "ImShE9kXEuYf",
        "outputId": "113d554e-7d66-4eba-9406-e35d7c039bcd"
      },
      "execution_count": 20,
      "outputs": [
        {
          "output_type": "stream",
          "name": "stdout",
          "text": [
            "Arange: [10 13 16 19 22 25]\n",
            "Linspace: [  1.  12.  23.  34.  45.  56.  67.  78.  89. 100.]\n"
          ]
        }
      ]
    },
    {
      "cell_type": "markdown",
      "source": [
        "### 📐 数组属性和基本操作 / Array Attributes and Basic Operations"
      ],
      "metadata": {
        "id": "YeEs9W5b0eCM"
      }
    },
    {
      "cell_type": "code",
      "source": [
        "arr = np.array([[10, 20, 30, 88], [40, 50, 60, 99], [42, 51, 63, 100]])"
      ],
      "metadata": {
        "id": "MuzxTmpx0esF"
      },
      "execution_count": 21,
      "outputs": []
    },
    {
      "cell_type": "code",
      "source": [
        "print(\"Shape:\", arr.shape)"
      ],
      "metadata": {
        "colab": {
          "base_uri": "https://localhost:8080/"
        },
        "id": "OrAWQ5piFGfT",
        "outputId": "50a114ca-f95e-4c24-8920-8d4f5ffe526f"
      },
      "execution_count": 22,
      "outputs": [
        {
          "output_type": "stream",
          "name": "stdout",
          "text": [
            "Shape: (3, 4)\n"
          ]
        }
      ]
    },
    {
      "cell_type": "code",
      "source": [
        "arr"
      ],
      "metadata": {
        "colab": {
          "base_uri": "https://localhost:8080/"
        },
        "id": "s6rvRosCGJBS",
        "outputId": "597e7331-5422-4e5c-9725-3f3e765af633"
      },
      "execution_count": 23,
      "outputs": [
        {
          "output_type": "execute_result",
          "data": {
            "text/plain": [
              "array([[ 10,  20,  30,  88],\n",
              "       [ 40,  50,  60,  99],\n",
              "       [ 42,  51,  63, 100]])"
            ]
          },
          "metadata": {},
          "execution_count": 23
        }
      ]
    },
    {
      "cell_type": "code",
      "source": [
        "print(\"Size:\", arr.size)"
      ],
      "metadata": {
        "colab": {
          "base_uri": "https://localhost:8080/"
        },
        "id": "zFgehaDiFIFp",
        "outputId": "90d75061-f626-4490-cdbf-153066db2323"
      },
      "execution_count": 24,
      "outputs": [
        {
          "output_type": "stream",
          "name": "stdout",
          "text": [
            "Size: 12\n"
          ]
        }
      ]
    },
    {
      "cell_type": "code",
      "source": [
        "print(\"Data type:\", arr.dtype)"
      ],
      "metadata": {
        "colab": {
          "base_uri": "https://localhost:8080/"
        },
        "id": "GCH9y9_NFJfv",
        "outputId": "a6a6f033-37ce-45bd-c5bc-30c498d2cb39"
      },
      "execution_count": 25,
      "outputs": [
        {
          "output_type": "stream",
          "name": "stdout",
          "text": [
            "Data type: int64\n"
          ]
        }
      ]
    },
    {
      "cell_type": "markdown",
      "source": [
        "## Matrix 行列式"
      ],
      "metadata": {
        "id": "6xueQHOhqONj"
      }
    },
    {
      "cell_type": "code",
      "source": [
        "arr"
      ],
      "metadata": {
        "colab": {
          "base_uri": "https://localhost:8080/"
        },
        "id": "IgiErTWNqUSt",
        "outputId": "b1bbb819-1890-4d6c-f7bf-ba70a3f4cab2"
      },
      "execution_count": 26,
      "outputs": [
        {
          "output_type": "execute_result",
          "data": {
            "text/plain": [
              "array([[ 10,  20,  30,  88],\n",
              "       [ 40,  50,  60,  99],\n",
              "       [ 42,  51,  63, 100]])"
            ]
          },
          "metadata": {},
          "execution_count": 26
        }
      ]
    },
    {
      "cell_type": "code",
      "source": [
        "# 转置 行--》 列 列--〉行\n",
        "print(\"Transpose:\\n\", arr.T)"
      ],
      "metadata": {
        "colab": {
          "base_uri": "https://localhost:8080/"
        },
        "id": "5n6vgGZ60hGz",
        "outputId": "882a1c5d-5660-4a37-fe73-8a5d33abfde9"
      },
      "execution_count": 27,
      "outputs": [
        {
          "output_type": "stream",
          "name": "stdout",
          "text": [
            "Transpose:\n",
            " [[ 10  40  42]\n",
            " [ 20  50  51]\n",
            " [ 30  60  63]\n",
            " [ 88  99 100]]\n"
          ]
        }
      ]
    },
    {
      "cell_type": "code",
      "source": [
        "arr = np.array([[11, 22, 33], [44, 55, 66], [77, 88, 99]])"
      ],
      "metadata": {
        "id": "YRKKMmN6FL6V"
      },
      "execution_count": 28,
      "outputs": []
    },
    {
      "cell_type": "code",
      "source": [
        "arr"
      ],
      "metadata": {
        "colab": {
          "base_uri": "https://localhost:8080/"
        },
        "id": "OKjwPDj_qhDk",
        "outputId": "8b73856f-9c7e-4112-823e-30153062eac2"
      },
      "execution_count": 30,
      "outputs": [
        {
          "output_type": "execute_result",
          "data": {
            "text/plain": [
              "array([[11, 22, 33],\n",
              "       [44, 55, 66],\n",
              "       [77, 88, 99]])"
            ]
          },
          "metadata": {},
          "execution_count": 30
        }
      ]
    },
    {
      "cell_type": "code",
      "source": [
        "print(\"Transpose:\\n\", arr.T)"
      ],
      "metadata": {
        "colab": {
          "base_uri": "https://localhost:8080/"
        },
        "id": "ESwhF0XdqfDb",
        "outputId": "a8909d00-9b4d-4ca6-ffea-4e7e48db05c7"
      },
      "execution_count": 31,
      "outputs": [
        {
          "output_type": "stream",
          "name": "stdout",
          "text": [
            "Transpose:\n",
            " [[11 44 77]\n",
            " [22 55 88]\n",
            " [33 66 99]]\n"
          ]
        }
      ]
    },
    {
      "cell_type": "markdown",
      "source": [
        "### 🔍 索引与切片 / Indexing and Slicing"
      ],
      "metadata": {
        "id": "EWvg7Rg-0jFP"
      }
    },
    {
      "cell_type": "code",
      "source": [
        "# 一维索引\n",
        "a = np.array([10, 20, 30, 40, 55, 77])"
      ],
      "metadata": {
        "id": "ZOhzhmxf0ihy"
      },
      "execution_count": 32,
      "outputs": []
    },
    {
      "cell_type": "code",
      "source": [
        "a"
      ],
      "metadata": {
        "colab": {
          "base_uri": "https://localhost:8080/"
        },
        "id": "7CsJXnI0qt1A",
        "outputId": "4e14ef0b-e70b-495e-933f-e653db45422c"
      },
      "execution_count": 33,
      "outputs": [
        {
          "output_type": "execute_result",
          "data": {
            "text/plain": [
              "array([10, 20, 30, 40, 55, 77])"
            ]
          },
          "metadata": {},
          "execution_count": 33
        }
      ]
    },
    {
      "cell_type": "code",
      "source": [
        "print(\"a[2] =\", a[2])  # index: 0"
      ],
      "metadata": {
        "colab": {
          "base_uri": "https://localhost:8080/"
        },
        "id": "IjuCoOtSFZZu",
        "outputId": "dfec61d7-415f-4d38-e070-a7d82534d97d"
      },
      "execution_count": 35,
      "outputs": [
        {
          "output_type": "stream",
          "name": "stdout",
          "text": [
            "a[2] = 30\n"
          ]
        }
      ]
    },
    {
      "cell_type": "code",
      "source": [
        "# 多维索引\n",
        "b = np.array([[11, 22, 30], [40, 50, 60], [40, 55, 77]])\n",
        "b"
      ],
      "metadata": {
        "colab": {
          "base_uri": "https://localhost:8080/"
        },
        "id": "qIgKVeBT0l2n",
        "outputId": "8d9611fe-9081-417a-def0-ee1aaa6e501b"
      },
      "execution_count": 36,
      "outputs": [
        {
          "output_type": "execute_result",
          "data": {
            "text/plain": [
              "array([[11, 22, 30],\n",
              "       [40, 50, 60],\n",
              "       [40, 55, 77]])"
            ]
          },
          "metadata": {},
          "execution_count": 36
        }
      ]
    },
    {
      "cell_type": "code",
      "source": [
        "print(\"b[2, 1] =\", b[2, 1])  # 6"
      ],
      "metadata": {
        "colab": {
          "base_uri": "https://localhost:8080/"
        },
        "id": "D6nUaS-IFd5h",
        "outputId": "9540b0d5-4bac-4270-9a42-252890224c04"
      },
      "execution_count": 37,
      "outputs": [
        {
          "output_type": "stream",
          "name": "stdout",
          "text": [
            "b[2, 1] = 55\n"
          ]
        }
      ]
    },
    {
      "cell_type": "code",
      "source": [
        "# 切片\n",
        "print(\"b[:, 2] =\", b[:, 2])  # 第二列, :"
      ],
      "metadata": {
        "colab": {
          "base_uri": "https://localhost:8080/"
        },
        "id": "1AOgqExe0mtw",
        "outputId": "cf0681d1-8a22-43aa-f4f7-90a5b19a0928"
      },
      "execution_count": 41,
      "outputs": [
        {
          "output_type": "stream",
          "name": "stdout",
          "text": [
            "b[:, 2] = [30 60 77]\n"
          ]
        }
      ]
    },
    {
      "cell_type": "code",
      "source": [
        "print(\"b[2, :] =\", b[2, :])  # 第一行 # : all, 所有"
      ],
      "metadata": {
        "id": "E0aYkls9Fi8n"
      },
      "execution_count": null,
      "outputs": []
    },
    {
      "cell_type": "markdown",
      "source": [
        "### ➕ 常见数学运算 / Basic Mathematical Operations"
      ],
      "metadata": {
        "id": "CUX6-qCS0odW"
      }
    },
    {
      "cell_type": "code",
      "source": [
        "x = np.array([1, 2, 3])\n",
        "y = np.array([10, 20, 30])"
      ],
      "metadata": {
        "id": "HUREVUJF0m-Q"
      },
      "execution_count": null,
      "outputs": []
    },
    {
      "cell_type": "code",
      "source": [
        "# 向量化运算（不需要for循环！）\n",
        "print(\"加法:\", x + y)"
      ],
      "metadata": {
        "id": "JEbcuj2yFqlL"
      },
      "execution_count": null,
      "outputs": []
    },
    {
      "cell_type": "code",
      "source": [
        "print(\"乘法:\", x * y)"
      ],
      "metadata": {
        "id": "qfwa7JwFFspi"
      },
      "execution_count": null,
      "outputs": []
    },
    {
      "cell_type": "code",
      "source": [
        "print(\"平方:\", x ** 2)"
      ],
      "metadata": {
        "id": "LhehCgWBFt9D"
      },
      "execution_count": null,
      "outputs": []
    },
    {
      "cell_type": "code",
      "source": [
        "# 应用数学函数\n",
        "print(\"sin(x):\", np.sin(x))"
      ],
      "metadata": {
        "id": "tnqYUl8FFpAS"
      },
      "execution_count": null,
      "outputs": []
    },
    {
      "cell_type": "code",
      "source": [
        "print(\"mean:\", np.mean(y))"
      ],
      "metadata": {
        "id": "IlMLlA08Fvye"
      },
      "execution_count": null,
      "outputs": []
    },
    {
      "cell_type": "code",
      "source": [
        "print(\"sum:\", np.sum(y))"
      ],
      "metadata": {
        "id": "j2RtNO_mFw52"
      },
      "execution_count": null,
      "outputs": []
    },
    {
      "cell_type": "code",
      "source": [
        "print(\"max:\", np.max(y))"
      ],
      "metadata": {
        "id": "Lf0Yt269FylZ"
      },
      "execution_count": null,
      "outputs": []
    },
    {
      "cell_type": "code",
      "source": [
        "print(\"min:\", np.min(y))"
      ],
      "metadata": {
        "id": "RFL2wEmPsu6c"
      },
      "execution_count": null,
      "outputs": []
    },
    {
      "cell_type": "markdown",
      "source": [
        "### 🎲 随机数生成 / Random Number Generation"
      ],
      "metadata": {
        "id": "rfhVwbE60rIt"
      }
    },
    {
      "cell_type": "code",
      "source": [
        "# 设置随机种子，确保结果可重复\n",
        "np.random.seed(42)"
      ],
      "metadata": {
        "id": "rIqWkM-X0rng"
      },
      "execution_count": null,
      "outputs": []
    },
    {
      "cell_type": "code",
      "source": [
        "rand_arr = np.random.rand(2, 3)  # 均匀分布\n",
        "randn_arr = np.random.randn(3)   # 标准正态分布\n",
        "randint_arr = np.random.randint(0, 10, size=(2, 4))  # 整数"
      ],
      "metadata": {
        "id": "V78cAoXUF0nW"
      },
      "execution_count": null,
      "outputs": []
    },
    {
      "cell_type": "code",
      "source": [
        "print(\"Random (0-1):\\n\", rand_arr)\n",
        "print(\"Normal distribution:\\n\", randn_arr)\n",
        "print(\"Random Integers:\\n\", randint_arr)"
      ],
      "metadata": {
        "id": "7nbkRU3iF2Xl"
      },
      "execution_count": null,
      "outputs": []
    },
    {
      "cell_type": "markdown",
      "source": [
        "### 🧠 小练习 / Practice Challenge"
      ],
      "metadata": {
        "id": "8VXUUcjv0tuE"
      }
    },
    {
      "cell_type": "markdown",
      "source": [
        "### 练习：创建一个 1 到 100 的数组，找出所有能被 3 或 5 整除的数的和"
      ],
      "metadata": {
        "id": "Y90NC09xtrFd"
      }
    },
    {
      "cell_type": "code",
      "source": [
        "# 练习：创建一个 1 到 100 的数组，找出所有能被 3 或 5 整除的数的和\n",
        "arr = np.arange(1, 101)"
      ],
      "metadata": {
        "id": "fzOGx5FY0uP9"
      },
      "execution_count": null,
      "outputs": []
    },
    {
      "cell_type": "code",
      "source": [
        "arr"
      ],
      "metadata": {
        "id": "h4-juszrt9Ut"
      },
      "execution_count": null,
      "outputs": []
    },
    {
      "cell_type": "code",
      "source": [
        "sum = 0\n",
        "for i in range(1, 101):\n",
        "  if i % 3 == 0 or i % 5 == 0:\n",
        "    sum += i\n",
        "print(sum)"
      ],
      "metadata": {
        "id": "oGwbGnAYuZ8W"
      },
      "execution_count": null,
      "outputs": []
    },
    {
      "cell_type": "code",
      "source": [
        "# 使用布尔索引\n",
        "mask = (arr % 3 == 0) | (arr % 5 == 0) # | OR\n",
        "result = np.sum(arr[mask])"
      ],
      "metadata": {
        "id": "daCZobJYGAiJ"
      },
      "execution_count": null,
      "outputs": []
    },
    {
      "cell_type": "code",
      "source": [
        "mask"
      ],
      "metadata": {
        "id": "doM6omGVuD1j"
      },
      "execution_count": null,
      "outputs": []
    },
    {
      "cell_type": "code",
      "source": [
        "print(\"能被 3 或 5 整除的数的和是:\", result)"
      ],
      "metadata": {
        "id": "hx8VMjaVGEAg"
      },
      "execution_count": null,
      "outputs": []
    },
    {
      "cell_type": "markdown",
      "source": [
        "### 小练习：使用 NumPy vs 使用 for 循环\n",
        "\n",
        "计算两个列表中对应元素的平方和\n",
        "即：结果 = a[i]**2 + b[i]**2 for all i"
      ],
      "metadata": {
        "id": "dxatyOehGYNx"
      }
    },
    {
      "cell_type": "markdown",
      "source": [
        "#### ✅ 使用 Python for 循环"
      ],
      "metadata": {
        "id": "UWP1k11zGzhJ"
      }
    },
    {
      "cell_type": "code",
      "source": [
        "a = list(range(10))\n",
        "b = list(range(10, 20))\n",
        "\n",
        "result = []\n",
        "for i in range(len(a)):\n",
        "    result.append(a[i]**2 + b[i]**2)"
      ],
      "metadata": {
        "id": "Gj-WdyVK1Zk2"
      },
      "execution_count": null,
      "outputs": []
    },
    {
      "cell_type": "code",
      "source": [
        "result"
      ],
      "metadata": {
        "id": "rzQchzMnGj2l"
      },
      "execution_count": null,
      "outputs": []
    },
    {
      "cell_type": "markdown",
      "source": [
        "#### ✅ 使用 NumPy 向量化"
      ],
      "metadata": {
        "id": "BQvMeERJGwRZ"
      }
    },
    {
      "cell_type": "code",
      "source": [
        "import numpy as np\n",
        "\n",
        "a = np.arange(10)\n",
        "b = np.arange(10, 20)\n",
        "\n",
        "result = a**2 + b**2"
      ],
      "metadata": {
        "id": "M-3Sit-i1apn"
      },
      "execution_count": null,
      "outputs": []
    },
    {
      "cell_type": "markdown",
      "source": [
        "### 小练习：多个数组运算 + 广播对比"
      ],
      "metadata": {
        "id": "u096OVhkG-Z_"
      }
    },
    {
      "cell_type": "code",
      "source": [
        "A = [[1, 2, 3, 4],\n",
        "     [5, 6, 7, 8],\n",
        "     [9, 10, 11, 12]]\n",
        "\n",
        "v = [1, 0, 1, 0]"
      ],
      "metadata": {
        "id": "UGvi4piP1dYW"
      },
      "execution_count": null,
      "outputs": []
    },
    {
      "cell_type": "markdown",
      "source": [
        "\n",
        "\n",
        "```\n",
        "A.shape == (3, 4)\n",
        "v.shape == (4,)\n",
        "```\n",
        "\n"
      ],
      "metadata": {
        "id": "CMk6ShLeHdmE"
      }
    },
    {
      "cell_type": "code",
      "source": [
        "result = []\n",
        "\n",
        "for row in A:\n",
        "  result.append([row[i] + v[i] for i in range(len(v))])\n",
        "\n",
        "print(result)"
      ],
      "metadata": {
        "id": "ZkI6EzLYHG0T"
      },
      "execution_count": null,
      "outputs": []
    },
    {
      "cell_type": "markdown",
      "source": [
        "#### ✅ 使用 NumPy 广播"
      ],
      "metadata": {
        "id": "O0gXNyiUHY9q"
      }
    },
    {
      "cell_type": "code",
      "source": [
        "import numpy as np\n",
        "\n",
        "A = np.array([[1, 2, 3, 4],\n",
        "              [5, 6, 7, 8],\n",
        "              [9, 10, 11, 12]])\n",
        "\n",
        "v = np.array([1, 0, 1, 0])\n",
        "result = A + v\n",
        "\n",
        "print(result)"
      ],
      "metadata": {
        "id": "D-8Pdmg_1e8m"
      },
      "execution_count": null,
      "outputs": []
    },
    {
      "cell_type": "markdown",
      "source": [
        "## ✅ 总结 / Summary"
      ],
      "metadata": {
        "id": "J4HBi8Kc1KGO"
      }
    },
    {
      "cell_type": "markdown",
      "source": [
        "| NumPy 概念        | 说明                                                         |\n",
        "|------------------|------------------------------------------------------------|\n",
        "| `ndarray`         | 高效的多维数组对象，支持元素级操作，存储结构紧凑                |\n",
        "| 向量化操作        | 避免显式 `for` 循环，使用数组间的批量运算提高计算效率            |\n",
        "| 广播（Broadcasting）| 使不同形状的数组可以进行算术运算，如标量加到矩阵上每个元素         |\n",
        "| 随机模块           | 提供生成随机数的函数（如正态分布、均匀分布），用于模拟实验或创建数据集 |"
      ],
      "metadata": {
        "id": "bt82LvzF050k"
      }
    },
    {
      "cell_type": "markdown",
      "source": [
        "## 📌 课后练习题"
      ],
      "metadata": {
        "id": "uLEymIwt1P74"
      }
    },
    {
      "cell_type": "markdown",
      "source": [
        "### ✅ 练习 1：数组创建与统计分析\n",
        "\n",
        "**题目：**\n",
        "创建一个包含 100 个介于 10 和 50 之间的整数的随机数组，完成以下任务：\n",
        "\n",
        "\t•\t输出最大值、最小值、平均值、中位数\n",
        "\t•\t统计每个数字出现的次数（提示：np.unique）"
      ],
      "metadata": {
        "id": "OjMM9ciW1reI"
      }
    },
    {
      "cell_type": "code",
      "source": [
        "import numpy as np\n",
        "\n",
        "# 在这里写代码👇\n",
        "\n",
        "# 创建随机数组\n",
        "random_array = np.random.randint(10, 51, size=100) # 51 is exclusive, so it generates up to 50\n",
        "\n",
        "# 计算统计指标\n",
        "max_value = np.max(random_array)\n",
        "min_value = np.min(random_array)\n",
        "mean_value = np.mean(random_array)\n",
        "median_value = np.median(random_array)\n",
        "\n",
        "print(\"Random Array:\", random_array)\n",
        "print(\"Max value:\", max_value)\n",
        "print(\"Min value:\", min_value)\n",
        "print(\"Mean value:\", mean_value)\n",
        "print(\"Median value:\", median_value)\n",
        "\n",
        "# 统计每个数字出现频率\n",
        "unique_elements, counts = np.unique(random_array, return_counts=True)\n",
        "print(\"Unique elements and their counts:\", dict(zip(unique_elements, counts)))"
      ],
      "metadata": {
        "id": "KcNs8Kt81H_z"
      },
      "execution_count": null,
      "outputs": []
    },
    {
      "cell_type": "markdown",
      "source": [
        "### ✅ 练习 2：向量化运算与布尔筛选\n",
        "\n",
        "**题目：**\n",
        "给定一个随机数组 arr = np.random.randint(0, 100, size=50)，完成以下操作：\n",
        "\n",
        "\t•\t找出所有大于等于 50 的数\n",
        "\t•\t将这些数乘以 2，其余不变，生成新的数组\n"
      ],
      "metadata": {
        "id": "HYWA-2bZ1zsd"
      }
    },
    {
      "cell_type": "code",
      "source": [
        "import numpy as np\n",
        "\n",
        "arr = np.random.randint(0, 100, size=50)\n",
        "\n",
        "# 在这里写代码👇\n",
        "\n",
        "# 使用布尔索引提取 >=50 的数\n",
        "greater_than_50 = arr[arr >= 50]\n",
        "print(\"Numbers greater than or equal to 50:\", greater_than_50)\n",
        "\n",
        "# 构建新的数组（满足条件乘2，不满足保持不变）\n",
        "new_arr = np.where(arr >= 50, arr * 2, arr)\n",
        "print(\"Original array:\", arr)\n",
        "print(\"New array:\", new_arr)"
      ],
      "metadata": {
        "id": "QMUwCaVP15c-"
      },
      "execution_count": null,
      "outputs": []
    },
    {
      "cell_type": "markdown",
      "source": [
        "### ✅ 练习 3：矩阵与广播\n",
        "\n",
        "**题目：**\n",
        "给定一个矩阵 A，每一行表示一位学生的 4 门课程成绩。现在假设每门课程有一个加权系数 [0.1, 0.2, 0.3, 0.4]，请使用广播计算每位学生的加权平均分。"
      ],
      "metadata": {
        "id": "KNrisOhE17l8"
      }
    },
    {
      "cell_type": "code",
      "source": [
        "import numpy as np\n",
        "\n",
        "A = np.array([\n",
        "    [80, 90, 85, 70],\n",
        "    [78, 88, 82, 76],\n",
        "    [92, 85, 87, 80]\n",
        "])\n",
        "\n",
        "weights = np.array([0.1, 0.2, 0.3, 0.4])\n",
        "\n",
        "# 在这里写代码👇\n",
        "\n",
        "# 使用广播计算加权和\n",
        "weighted_scores = A * weights\n",
        "\n",
        "# 使用 axis 参数控制加权平均方式\n",
        "weighted_average = np.sum(weighted_scores, axis=1)\n",
        "\n",
        "print(\"Weighted Scores:\\n\", weighted_scores)\n",
        "print(\"Weighted Average:\\n\", weighted_average)"
      ],
      "metadata": {
        "id": "egVLkeoa1_vQ"
      },
      "execution_count": null,
      "outputs": []
    }
  ]
}