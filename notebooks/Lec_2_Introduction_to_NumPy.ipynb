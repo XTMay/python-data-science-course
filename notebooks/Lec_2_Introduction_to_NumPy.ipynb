{
  "nbformat": 4,
  "nbformat_minor": 0,
  "metadata": {
    "colab": {
      "provenance": [],
      "collapsed_sections": [
        "u096OVhkG-Z_",
        "O0gXNyiUHY9q",
        "J4HBi8Kc1KGO"
      ],
      "mount_file_id": "1tMmvAO95eCPHfa7NLE29Dfn8bwOr3RzK",
      "authorship_tag": "ABX9TyNkdOYLPhoF+WhRuAoe7ktc",
      "include_colab_link": true
    },
    "kernelspec": {
      "name": "python3",
      "display_name": "Python 3"
    },
    "language_info": {
      "name": "python"
    }
  },
  "cells": [
    {
      "cell_type": "markdown",
      "metadata": {
        "id": "view-in-github",
        "colab_type": "text"
      },
      "source": [
        "<a href=\"https://colab.research.google.com/github/XTMay/python-data-science-course/blob/main/notebooks/Lec_2_Introduction_to_NumPy.ipynb\" target=\"_parent\"><img src=\"https://colab.research.google.com/assets/colab-badge.svg\" alt=\"Open In Colab\"/></a>"
      ]
    },
    {
      "cell_type": "markdown",
      "source": [
        "# Lesson 02: Introduction to [NumPy](https://numpy.org/)"
      ],
      "metadata": {
        "id": "zXObiq7rcpIK"
      }
    },
    {
      "cell_type": "markdown",
      "source": [
        "## 🎯 学习目标 / Learning Objectives\n",
        "\n",
        "\t•\t了解 NumPy 是什么及其在数据科学中的作用\n",
        "\t•\t创建 NumPy 数组（ndarray）\n",
        "\t•\t学习常用数组操作（shape, dtype, indexing, slicing）\n",
        "\t•\t使用 NumPy 进行基础数学计算\n",
        "\t•\t练习：编写向量化代码提高效率"
      ],
      "metadata": {
        "id": "ZfgRtt8Wd5EW"
      }
    },
    {
      "cell_type": "markdown",
      "source": [
        "## 🔧 什么是 NumPy？What is NumPy?\n",
        "\n",
        "NumPy（Numerical Python）是 Python 中用于高效数值计算的核心库。\n",
        "它提供了一个强大的 n 维数组对象 ndarray，并支持矢量化操作（无需使用循环）。"
      ],
      "metadata": {
        "id": "p1DbL7Aic280"
      }
    },
    {
      "cell_type": "markdown",
      "source": [
        "### 🔢 创建 NumPy 数组 / Creating NumPy Arrays"
      ],
      "metadata": {
        "id": "V8QKE2K-ct5c"
      }
    },
    {
      "cell_type": "code",
      "source": [
        "import numpy as np"
      ],
      "metadata": {
        "id": "syty0yov0KVX"
      },
      "execution_count": null,
      "outputs": []
    },
    {
      "cell_type": "code",
      "source": [
        "# 从列表创建数组\n",
        "a = np.array([1, 2, 3, 4])\n",
        "print(\"a =\", a)"
      ],
      "metadata": {
        "colab": {
          "base_uri": "https://localhost:8080/"
        },
        "id": "YcDKi_G10PUw",
        "outputId": "647c7dda-0707-49d9-e965-1a9502929c0e"
      },
      "execution_count": null,
      "outputs": [
        {
          "output_type": "stream",
          "name": "stdout",
          "text": [
            "a = [1 2 3 4]\n"
          ]
        }
      ]
    },
    {
      "cell_type": "code",
      "source": [
        "a"
      ],
      "metadata": {
        "colab": {
          "base_uri": "https://localhost:8080/"
        },
        "id": "_5Rz4zNIoVqY",
        "outputId": "986f541e-04d8-42bf-c248-59f8ae542523"
      },
      "execution_count": null,
      "outputs": [
        {
          "output_type": "execute_result",
          "data": {
            "text/plain": [
              "array([1, 2, 3, 4])"
            ]
          },
          "metadata": {},
          "execution_count": 3
        }
      ]
    },
    {
      "cell_type": "code",
      "source": [
        "lst = [1, 2, 3, 4]\n",
        "lst"
      ],
      "metadata": {
        "colab": {
          "base_uri": "https://localhost:8080/"
        },
        "id": "kbMZ_HmaoPtQ",
        "outputId": "53c2bd1f-876c-4cc9-b48f-bfab43914b44"
      },
      "execution_count": null,
      "outputs": [
        {
          "output_type": "execute_result",
          "data": {
            "text/plain": [
              "[1, 2, 3, 4]"
            ]
          },
          "metadata": {},
          "execution_count": 4
        }
      ]
    },
    {
      "cell_type": "code",
      "source": [
        "type(lst)"
      ],
      "metadata": {
        "colab": {
          "base_uri": "https://localhost:8080/"
        },
        "id": "Bbs34ZjsoXPo",
        "outputId": "8a4d978f-0ba1-4552-a7ab-dd4969817060"
      },
      "execution_count": null,
      "outputs": [
        {
          "output_type": "execute_result",
          "data": {
            "text/plain": [
              "list"
            ]
          },
          "metadata": {},
          "execution_count": 5
        }
      ]
    },
    {
      "cell_type": "code",
      "source": [
        "type(a)"
      ],
      "metadata": {
        "colab": {
          "base_uri": "https://localhost:8080/"
        },
        "id": "0qyIAnDfoa6T",
        "outputId": "ae0a0be6-f331-4aa5-e5e1-6b6351255908"
      },
      "execution_count": null,
      "outputs": [
        {
          "output_type": "execute_result",
          "data": {
            "text/plain": [
              "numpy.ndarray"
            ]
          },
          "metadata": {},
          "execution_count": 6
        }
      ]
    },
    {
      "cell_type": "code",
      "source": [
        "# 创建二维数组\n",
        "b = np.array([[1, 2], [3, 4]])\n",
        "print(\"b =\\n\", b)"
      ],
      "metadata": {
        "colab": {
          "base_uri": "https://localhost:8080/"
        },
        "id": "HSchUqt10SJo",
        "outputId": "c49d72c3-b09d-444e-82e1-0bc8c46ccf11"
      },
      "execution_count": null,
      "outputs": [
        {
          "output_type": "stream",
          "name": "stdout",
          "text": [
            "b =\n",
            " [[1 2]\n",
            " [3 4]]\n"
          ]
        }
      ]
    },
    {
      "cell_type": "code",
      "source": [
        "# 创建全 0、全 1 和空数组\n",
        "zeros = np.zeros((2, 3)) # row: 2 col: 3\n",
        "ones = np.ones((3, 3))"
      ],
      "metadata": {
        "id": "fa1_Jm270Td-"
      },
      "execution_count": null,
      "outputs": []
    },
    {
      "cell_type": "code",
      "source": [
        "print(\"Zeros:\\n\", zeros)\n",
        "print(\"Ones:\\n\", ones)"
      ],
      "metadata": {
        "colab": {
          "base_uri": "https://localhost:8080/"
        },
        "id": "4yqLVKw30Vqy",
        "outputId": "aef183d5-69de-4240-8762-f3a45d897021"
      },
      "execution_count": null,
      "outputs": [
        {
          "output_type": "stream",
          "name": "stdout",
          "text": [
            "Zeros:\n",
            " [[0. 0. 0.]\n",
            " [0. 0. 0.]]\n",
            "Ones:\n",
            " [[1. 1. 1.]\n",
            " [1. 1. 1.]\n",
            " [1. 1. 1.]]\n"
          ]
        }
      ]
    },
    {
      "cell_type": "code",
      "source": [
        "empty = np.empty((2, 2)) # np.empty() 用于创建一个未初始化的数组，即数组中的元素值是任意的（内存中的垃圾值），不建议直接使用其内容。"
      ],
      "metadata": {
        "id": "Bl-xrZbGEYTj"
      },
      "execution_count": null,
      "outputs": []
    },
    {
      "cell_type": "code",
      "source": [
        "print(\"Empty:\\n\", empty)"
      ],
      "metadata": {
        "colab": {
          "base_uri": "https://localhost:8080/"
        },
        "id": "tI4_kd1BEacz",
        "outputId": "61f51d2c-0974-4890-a573-b9ff5abcdd04"
      },
      "execution_count": null,
      "outputs": [
        {
          "output_type": "stream",
          "name": "stdout",
          "text": [
            "Empty:\n",
            " [[1.02293202e-315 0.00000000e+000]\n",
            " [1.09153378e-315 1.09153378e-315]]\n"
          ]
        }
      ]
    },
    {
      "cell_type": "code",
      "source": [
        "# 创建等差数组或等间距数组\n",
        "arange_arr = np.arange(0, 10, 2) # step: 4. start: 0 <= number < end: 17\n",
        "linspace_arr = np.linspace(0, 10, 5) # number of values: 5, start: 0 <= number <= end: 1\n",
        "\n",
        "print(\"Arange:\", arange_arr)\n",
        "print(\"Linspace:\", linspace_arr)"
      ],
      "metadata": {
        "colab": {
          "base_uri": "https://localhost:8080/"
        },
        "id": "McgWE4h20W9S",
        "outputId": "09d71868-9b27-4b97-d238-568e91fd96f1"
      },
      "execution_count": null,
      "outputs": [
        {
          "output_type": "stream",
          "name": "stdout",
          "text": [
            "Arange: [0 2 4 6 8]\n",
            "Linspace: [ 0.   2.5  5.   7.5 10. ]\n"
          ]
        }
      ]
    },
    {
      "cell_type": "code",
      "source": [
        "arange_arr = np.arange(10, 26, 3) # step: 3 start <= n < end\n",
        "linspace_arr = np.linspace(1, 100, 10) # number of values: start <= n <= end\n",
        "\n",
        "print(\"Arange:\", arange_arr)\n",
        "print(\"Linspace:\", linspace_arr)"
      ],
      "metadata": {
        "colab": {
          "base_uri": "https://localhost:8080/"
        },
        "id": "ImShE9kXEuYf",
        "outputId": "3b10d218-e3cb-43fe-a9fd-a1ed60c8982f"
      },
      "execution_count": null,
      "outputs": [
        {
          "output_type": "stream",
          "name": "stdout",
          "text": [
            "Arange: [10 13 16 19 22 25]\n",
            "Linspace: [  1.  12.  23.  34.  45.  56.  67.  78.  89. 100.]\n"
          ]
        }
      ]
    },
    {
      "cell_type": "markdown",
      "source": [
        "### 📐 数组属性和基本操作 / Array Attributes and Basic Operations"
      ],
      "metadata": {
        "id": "YeEs9W5b0eCM"
      }
    },
    {
      "cell_type": "code",
      "source": [
        "arr = np.array([[10, 20, 30, 88], [40, 50, 60, 99], [42, 51, 63, 100]])"
      ],
      "metadata": {
        "id": "MuzxTmpx0esF"
      },
      "execution_count": null,
      "outputs": []
    },
    {
      "cell_type": "code",
      "source": [
        "print(\"Shape:\", arr.shape)"
      ],
      "metadata": {
        "colab": {
          "base_uri": "https://localhost:8080/"
        },
        "id": "OrAWQ5piFGfT",
        "outputId": "5bb9421d-8dd1-4886-a21d-3d664b882aae"
      },
      "execution_count": null,
      "outputs": [
        {
          "output_type": "stream",
          "name": "stdout",
          "text": [
            "Shape: (3, 4)\n"
          ]
        }
      ]
    },
    {
      "cell_type": "code",
      "source": [
        "arr"
      ],
      "metadata": {
        "colab": {
          "base_uri": "https://localhost:8080/"
        },
        "id": "s6rvRosCGJBS",
        "outputId": "d10ee087-ae00-41ba-a922-efce5aaa1a53"
      },
      "execution_count": null,
      "outputs": [
        {
          "output_type": "execute_result",
          "data": {
            "text/plain": [
              "array([[ 10,  20,  30,  88],\n",
              "       [ 40,  50,  60,  99],\n",
              "       [ 42,  51,  63, 100]])"
            ]
          },
          "metadata": {},
          "execution_count": 19
        }
      ]
    },
    {
      "cell_type": "code",
      "source": [
        "print(\"Size:\", arr.size) # row * col"
      ],
      "metadata": {
        "colab": {
          "base_uri": "https://localhost:8080/"
        },
        "id": "zFgehaDiFIFp",
        "outputId": "cedbcb24-06cd-42a9-bafd-c4587a677709"
      },
      "execution_count": null,
      "outputs": [
        {
          "output_type": "stream",
          "name": "stdout",
          "text": [
            "Size: 12\n"
          ]
        }
      ]
    },
    {
      "cell_type": "code",
      "source": [
        "print(\"Data type:\", arr.dtype)"
      ],
      "metadata": {
        "colab": {
          "base_uri": "https://localhost:8080/"
        },
        "id": "GCH9y9_NFJfv",
        "outputId": "58674f59-afe3-40ce-ca43-a587320fe60c"
      },
      "execution_count": null,
      "outputs": [
        {
          "output_type": "stream",
          "name": "stdout",
          "text": [
            "Data type: int64\n"
          ]
        }
      ]
    },
    {
      "cell_type": "markdown",
      "source": [
        "## Matrix 行列式"
      ],
      "metadata": {
        "id": "6xueQHOhqONj"
      }
    },
    {
      "cell_type": "code",
      "source": [
        "arr"
      ],
      "metadata": {
        "colab": {
          "base_uri": "https://localhost:8080/"
        },
        "id": "IgiErTWNqUSt",
        "outputId": "09f9974c-e649-4366-ddb6-1f68aef28c94"
      },
      "execution_count": null,
      "outputs": [
        {
          "output_type": "execute_result",
          "data": {
            "text/plain": [
              "array([[ 10,  20,  30,  88],\n",
              "       [ 40,  50,  60,  99],\n",
              "       [ 42,  51,  63, 100]])"
            ]
          },
          "metadata": {},
          "execution_count": 22
        }
      ]
    },
    {
      "cell_type": "code",
      "source": [
        "# 转置 行--〉列, 列--〉行\n",
        "print(\"Transpose:\\n\", arr.T)"
      ],
      "metadata": {
        "colab": {
          "base_uri": "https://localhost:8080/"
        },
        "id": "5n6vgGZ60hGz",
        "outputId": "184159d5-1ec1-4815-b5f4-7930ca4c41c3"
      },
      "execution_count": null,
      "outputs": [
        {
          "output_type": "stream",
          "name": "stdout",
          "text": [
            "Transpose:\n",
            " [[ 10  40  42]\n",
            " [ 20  50  51]\n",
            " [ 30  60  63]\n",
            " [ 88  99 100]]\n"
          ]
        }
      ]
    },
    {
      "cell_type": "code",
      "source": [
        "arr = np.array([[11, 22, 33], [44, 55, 66], [77, 88, 99]])"
      ],
      "metadata": {
        "id": "YRKKMmN6FL6V"
      },
      "execution_count": null,
      "outputs": []
    },
    {
      "cell_type": "code",
      "source": [
        "arr"
      ],
      "metadata": {
        "colab": {
          "base_uri": "https://localhost:8080/"
        },
        "id": "OKjwPDj_qhDk",
        "outputId": "6e6eeb3e-ca5b-42a9-a6c0-fc7a2154aa7b"
      },
      "execution_count": null,
      "outputs": [
        {
          "output_type": "execute_result",
          "data": {
            "text/plain": [
              "array([[11, 22, 33],\n",
              "       [44, 55, 66],\n",
              "       [77, 88, 99]])"
            ]
          },
          "metadata": {},
          "execution_count": 25
        }
      ]
    },
    {
      "cell_type": "code",
      "source": [
        "print(\"Transpose:\\n\", arr.T)"
      ],
      "metadata": {
        "colab": {
          "base_uri": "https://localhost:8080/"
        },
        "id": "ESwhF0XdqfDb",
        "outputId": "cc25be60-d48f-4701-dab8-2250ba559476"
      },
      "execution_count": null,
      "outputs": [
        {
          "output_type": "stream",
          "name": "stdout",
          "text": [
            "Transpose:\n",
            " [[11 44 77]\n",
            " [22 55 88]\n",
            " [33 66 99]]\n"
          ]
        }
      ]
    },
    {
      "cell_type": "markdown",
      "source": [
        "### 🔍 索引与切片 / Indexing and Slicing"
      ],
      "metadata": {
        "id": "EWvg7Rg-0jFP"
      }
    },
    {
      "cell_type": "code",
      "source": [
        "# 一维索引\n",
        "a = np.array([10, 20, 30, 40, 55, 77])"
      ],
      "metadata": {
        "id": "ZOhzhmxf0ihy"
      },
      "execution_count": null,
      "outputs": []
    },
    {
      "cell_type": "code",
      "source": [
        "a"
      ],
      "metadata": {
        "colab": {
          "base_uri": "https://localhost:8080/"
        },
        "id": "7CsJXnI0qt1A",
        "outputId": "982b8432-8486-44ce-a1f6-f7b3dbf587b5"
      },
      "execution_count": null,
      "outputs": [
        {
          "output_type": "execute_result",
          "data": {
            "text/plain": [
              "array([10, 20, 30, 40, 55, 77])"
            ]
          },
          "metadata": {},
          "execution_count": 28
        }
      ]
    },
    {
      "cell_type": "code",
      "source": [
        "print(\"a[2] =\", a[2])  # index: 0"
      ],
      "metadata": {
        "colab": {
          "base_uri": "https://localhost:8080/"
        },
        "id": "IjuCoOtSFZZu",
        "outputId": "913cda82-489f-4586-d8d0-d2557a709e78"
      },
      "execution_count": null,
      "outputs": [
        {
          "output_type": "stream",
          "name": "stdout",
          "text": [
            "a[2] = 30\n"
          ]
        }
      ]
    },
    {
      "cell_type": "code",
      "source": [
        "# 多维索引\n",
        "b = np.array([[11, 22, 30], [40, 50, 60], [40, 55, 77]])\n",
        "b"
      ],
      "metadata": {
        "colab": {
          "base_uri": "https://localhost:8080/"
        },
        "id": "qIgKVeBT0l2n",
        "outputId": "7cf5ee75-f605-43ee-ff60-192b680d6a78"
      },
      "execution_count": null,
      "outputs": [
        {
          "output_type": "execute_result",
          "data": {
            "text/plain": [
              "array([[11, 22, 30],\n",
              "       [40, 50, 60],\n",
              "       [40, 55, 77]])"
            ]
          },
          "metadata": {},
          "execution_count": 30
        }
      ]
    },
    {
      "cell_type": "code",
      "source": [
        "b[0, 1]"
      ],
      "metadata": {
        "colab": {
          "base_uri": "https://localhost:8080/"
        },
        "id": "eeYh18PlGUcB",
        "outputId": "e1dd211c-4428-4861-aae4-a77de539408a"
      },
      "execution_count": null,
      "outputs": [
        {
          "output_type": "execute_result",
          "data": {
            "text/plain": [
              "np.int64(22)"
            ]
          },
          "metadata": {},
          "execution_count": 37
        }
      ]
    },
    {
      "cell_type": "code",
      "source": [
        "print(\"b[2, 1] =\", b[2, 1])  # 55"
      ],
      "metadata": {
        "colab": {
          "base_uri": "https://localhost:8080/"
        },
        "id": "D6nUaS-IFd5h",
        "outputId": "090c62d1-0b41-4834-dbf2-59bf500cca4c"
      },
      "execution_count": null,
      "outputs": [
        {
          "output_type": "stream",
          "name": "stdout",
          "text": [
            "b[2, 1] = 55\n"
          ]
        }
      ]
    },
    {
      "cell_type": "code",
      "source": [
        "# b[row, col] # : ALL"
      ],
      "metadata": {
        "id": "_WJnADtPFUmr"
      },
      "execution_count": null,
      "outputs": []
    },
    {
      "cell_type": "code",
      "source": [
        "# 切片\n",
        "print(\"b[:, 2] =\", b[:, 2])  # 第二列, :"
      ],
      "metadata": {
        "colab": {
          "base_uri": "https://localhost:8080/"
        },
        "id": "1AOgqExe0mtw",
        "outputId": "92a1e439-6a03-43c1-88b2-ac058c16855f"
      },
      "execution_count": null,
      "outputs": [
        {
          "output_type": "stream",
          "name": "stdout",
          "text": [
            "b[:, 2] = [30 60 77]\n"
          ]
        }
      ]
    },
    {
      "cell_type": "code",
      "source": [
        "print(\"b[2, :] =\", b[2, :])  # 第一行 # : all, 所有"
      ],
      "metadata": {
        "id": "E0aYkls9Fi8n",
        "colab": {
          "base_uri": "https://localhost:8080/"
        },
        "outputId": "6b7f68be-64bc-4d6c-f7d2-cd6407f176a9"
      },
      "execution_count": null,
      "outputs": [
        {
          "output_type": "stream",
          "name": "stdout",
          "text": [
            "b[2, :] = [40 55 77]\n"
          ]
        }
      ]
    },
    {
      "cell_type": "code",
      "source": [
        "print(b[0:1, 1:2]) # start:end sstart <= idx < end"
      ],
      "metadata": {
        "colab": {
          "base_uri": "https://localhost:8080/"
        },
        "id": "VhppBGI0Fq84",
        "outputId": "597eca2c-25b8-4b93-a96c-08580cc2b5e5"
      },
      "execution_count": null,
      "outputs": [
        {
          "output_type": "stream",
          "name": "stdout",
          "text": [
            "[[22]]\n"
          ]
        }
      ]
    },
    {
      "cell_type": "markdown",
      "source": [
        "### ➕ 常见数学运算 / Basic Mathematical Operations"
      ],
      "metadata": {
        "id": "CUX6-qCS0odW"
      }
    },
    {
      "cell_type": "code",
      "source": [
        "x = np.array([1, 2, 3])\n",
        "y = np.array([10, 20, 30])"
      ],
      "metadata": {
        "id": "HUREVUJF0m-Q"
      },
      "execution_count": null,
      "outputs": []
    },
    {
      "cell_type": "code",
      "source": [
        "# 向量化运算（不需要for循环！）\n",
        "print(\"加法:\", x + y)"
      ],
      "metadata": {
        "id": "JEbcuj2yFqlL",
        "colab": {
          "base_uri": "https://localhost:8080/"
        },
        "outputId": "a9df9684-fd97-46f5-f3ab-dc8597661b74"
      },
      "execution_count": null,
      "outputs": [
        {
          "output_type": "stream",
          "name": "stdout",
          "text": [
            "加法: [11 22 33]\n"
          ]
        }
      ]
    },
    {
      "cell_type": "code",
      "source": [
        "print(\"乘法:\", x * y)"
      ],
      "metadata": {
        "id": "qfwa7JwFFspi",
        "colab": {
          "base_uri": "https://localhost:8080/"
        },
        "outputId": "cd9c31b5-7297-41c1-fd7a-aba7488c3756"
      },
      "execution_count": null,
      "outputs": [
        {
          "output_type": "stream",
          "name": "stdout",
          "text": [
            "乘法: [10 40 90]\n"
          ]
        }
      ]
    },
    {
      "cell_type": "code",
      "source": [
        "print(\"平方:\", x ** 2)"
      ],
      "metadata": {
        "id": "LhehCgWBFt9D",
        "colab": {
          "base_uri": "https://localhost:8080/"
        },
        "outputId": "a0a0ffd0-649c-4248-82f1-8843152c8f96"
      },
      "execution_count": null,
      "outputs": [
        {
          "output_type": "stream",
          "name": "stdout",
          "text": [
            "平方: [1 4 9]\n"
          ]
        }
      ]
    },
    {
      "cell_type": "code",
      "source": [
        "# 应用数学函数\n",
        "print(\"sin(x):\", np.sin(x))"
      ],
      "metadata": {
        "id": "tnqYUl8FFpAS",
        "colab": {
          "base_uri": "https://localhost:8080/"
        },
        "outputId": "e756ca88-58f7-43b9-c113-f8a9ba9bd83d"
      },
      "execution_count": null,
      "outputs": [
        {
          "output_type": "stream",
          "name": "stdout",
          "text": [
            "sin(x): [0.84147098 0.90929743 0.14112001]\n"
          ]
        }
      ]
    },
    {
      "cell_type": "code",
      "source": [
        "print(\"mean:\", np.mean(y))"
      ],
      "metadata": {
        "id": "IlMLlA08Fvye",
        "colab": {
          "base_uri": "https://localhost:8080/"
        },
        "outputId": "33df0f16-25e2-4410-94f6-f795c9adf6d8"
      },
      "execution_count": null,
      "outputs": [
        {
          "output_type": "stream",
          "name": "stdout",
          "text": [
            "mean: 20.0\n"
          ]
        }
      ]
    },
    {
      "cell_type": "markdown",
      "source": [
        "#### meand([1, 2, 3])"
      ],
      "metadata": {
        "id": "Y3PnzfYuGpZH"
      }
    },
    {
      "cell_type": "code",
      "source": [
        "print(\"sum:\", np.sum(y))"
      ],
      "metadata": {
        "id": "j2RtNO_mFw52",
        "colab": {
          "base_uri": "https://localhost:8080/"
        },
        "outputId": "9192ebf3-8ae7-4a3c-dc3a-098530fe4880"
      },
      "execution_count": null,
      "outputs": [
        {
          "output_type": "stream",
          "name": "stdout",
          "text": [
            "sum: 60\n"
          ]
        }
      ]
    },
    {
      "cell_type": "code",
      "source": [
        "print(\"max:\", np.max(y))"
      ],
      "metadata": {
        "id": "Lf0Yt269FylZ",
        "colab": {
          "base_uri": "https://localhost:8080/"
        },
        "outputId": "3bfda185-38b4-46c0-f8da-355a925903d5"
      },
      "execution_count": null,
      "outputs": [
        {
          "output_type": "stream",
          "name": "stdout",
          "text": [
            "max: 30\n"
          ]
        }
      ]
    },
    {
      "cell_type": "code",
      "source": [
        "print(\"min:\", np.min(y))"
      ],
      "metadata": {
        "id": "RFL2wEmPsu6c",
        "colab": {
          "base_uri": "https://localhost:8080/"
        },
        "outputId": "1a51070b-a14e-484c-f90b-856b831c45f5"
      },
      "execution_count": null,
      "outputs": [
        {
          "output_type": "stream",
          "name": "stdout",
          "text": [
            "min: 10\n"
          ]
        }
      ]
    },
    {
      "cell_type": "markdown",
      "source": [
        "### 🎲 随机数生成 / Random Number Generation"
      ],
      "metadata": {
        "id": "rfhVwbE60rIt"
      }
    },
    {
      "cell_type": "code",
      "source": [
        "# 设置随机种子，确保结果可重复\n",
        "np.random.seed(42)"
      ],
      "metadata": {
        "id": "rIqWkM-X0rng"
      },
      "execution_count": null,
      "outputs": []
    },
    {
      "cell_type": "code",
      "source": [
        "rand_arr = np.random.rand(2, 3)  # 均匀分布\n",
        "randn_arr = np.random.randn(3)   # 标准正态分布\n",
        "randint_arr = np.random.randint(0, 10, size=(2, 4))  # 整数"
      ],
      "metadata": {
        "id": "V78cAoXUF0nW"
      },
      "execution_count": null,
      "outputs": []
    },
    {
      "cell_type": "code",
      "source": [
        "print(\"Random (0-1):\\n\", rand_arr)\n",
        "print(\"Normal distribution:\\n\", randn_arr)\n",
        "print(\"Random Integers:\\n\", randint_arr)"
      ],
      "metadata": {
        "id": "7nbkRU3iF2Xl",
        "colab": {
          "base_uri": "https://localhost:8080/"
        },
        "outputId": "78fd242f-64c2-40dd-a705-dde0274982e7"
      },
      "execution_count": null,
      "outputs": [
        {
          "output_type": "stream",
          "name": "stdout",
          "text": [
            "Random (0-1):\n",
            " [[0.37454012 0.95071431 0.73199394]\n",
            " [0.59865848 0.15601864 0.15599452]]\n",
            "Normal distribution:\n",
            " [ 1.57921282  0.76743473 -0.46947439]\n",
            "Random Integers:\n",
            " [[4 0 9 5]\n",
            " [8 0 9 2]]\n"
          ]
        }
      ]
    },
    {
      "cell_type": "markdown",
      "source": [
        "### 🧠 小练习 / Practice Challenge"
      ],
      "metadata": {
        "id": "8VXUUcjv0tuE"
      }
    },
    {
      "cell_type": "markdown",
      "source": [
        "### 练习：创建一个 1 到 100 的数组，找出所有能被 3 或 5 整除的数的和"
      ],
      "metadata": {
        "id": "Y90NC09xtrFd"
      }
    },
    {
      "cell_type": "code",
      "source": [
        "# 练习：创建一个 1 到 100 的数组，找出所有能被 3 或 5 整除的数的和\n",
        "arr = np.arange(1, 101)"
      ],
      "metadata": {
        "id": "fzOGx5FY0uP9"
      },
      "execution_count": null,
      "outputs": []
    },
    {
      "cell_type": "code",
      "source": [
        "arr"
      ],
      "metadata": {
        "id": "h4-juszrt9Ut",
        "colab": {
          "base_uri": "https://localhost:8080/"
        },
        "outputId": "c4a08827-d2c5-4c21-c801-938b6e642dd2"
      },
      "execution_count": null,
      "outputs": [
        {
          "output_type": "execute_result",
          "data": {
            "text/plain": [
              "array([  1,   2,   3,   4,   5,   6,   7,   8,   9,  10,  11,  12,  13,\n",
              "        14,  15,  16,  17,  18,  19,  20,  21,  22,  23,  24,  25,  26,\n",
              "        27,  28,  29,  30,  31,  32,  33,  34,  35,  36,  37,  38,  39,\n",
              "        40,  41,  42,  43,  44,  45,  46,  47,  48,  49,  50,  51,  52,\n",
              "        53,  54,  55,  56,  57,  58,  59,  60,  61,  62,  63,  64,  65,\n",
              "        66,  67,  68,  69,  70,  71,  72,  73,  74,  75,  76,  77,  78,\n",
              "        79,  80,  81,  82,  83,  84,  85,  86,  87,  88,  89,  90,  91,\n",
              "        92,  93,  94,  95,  96,  97,  98,  99, 100])"
            ]
          },
          "metadata": {},
          "execution_count": 53
        }
      ]
    },
    {
      "cell_type": "markdown",
      "source": [
        "3 % 3 = 1....0"
      ],
      "metadata": {
        "id": "8atS8Pc2Hs23"
      }
    },
    {
      "cell_type": "code",
      "source": [
        "sum = 0\n",
        "for i in range(1, 101): #list\n",
        "  if i % 3 == 0 or i % 5 == 0: # %\n",
        "    sum += i # sum = sum + i\n",
        "print(sum)"
      ],
      "metadata": {
        "id": "oGwbGnAYuZ8W",
        "colab": {
          "base_uri": "https://localhost:8080/"
        },
        "outputId": "4aeb5083-fdcd-434a-dd5b-72dc6664c449"
      },
      "execution_count": null,
      "outputs": [
        {
          "output_type": "stream",
          "name": "stdout",
          "text": [
            "2418\n"
          ]
        }
      ]
    },
    {
      "cell_type": "code",
      "source": [
        "math.sum()"
      ],
      "metadata": {
        "id": "NU1df8KnIJIf"
      },
      "execution_count": null,
      "outputs": []
    },
    {
      "cell_type": "code",
      "source": [
        "# 使用布尔索引\n",
        "mask = (arr % 3 == 0) | (arr % 5 == 0) # | OR, & AND\n",
        "result = np.sum(arr[mask])"
      ],
      "metadata": {
        "id": "daCZobJYGAiJ"
      },
      "execution_count": null,
      "outputs": []
    },
    {
      "cell_type": "code",
      "source": [
        "mask"
      ],
      "metadata": {
        "id": "doM6omGVuD1j",
        "colab": {
          "base_uri": "https://localhost:8080/"
        },
        "outputId": "b7191ebf-4f77-4c89-f31a-5bd81c3e0365"
      },
      "execution_count": null,
      "outputs": [
        {
          "output_type": "execute_result",
          "data": {
            "text/plain": [
              "array([False, False,  True, False,  True,  True, False, False,  True,\n",
              "        True, False,  True, False, False,  True, False, False,  True,\n",
              "       False,  True,  True, False, False,  True,  True, False,  True,\n",
              "       False, False,  True, False, False,  True, False,  True,  True,\n",
              "       False, False,  True,  True, False,  True, False, False,  True,\n",
              "       False, False,  True, False,  True,  True, False, False,  True,\n",
              "        True, False,  True, False, False,  True, False, False,  True,\n",
              "       False,  True,  True, False, False,  True,  True, False,  True,\n",
              "       False, False,  True, False, False,  True, False,  True,  True,\n",
              "       False, False,  True,  True, False,  True, False, False,  True,\n",
              "       False, False,  True, False,  True,  True, False, False,  True,\n",
              "        True])"
            ]
          },
          "metadata": {},
          "execution_count": 55
        }
      ]
    },
    {
      "cell_type": "code",
      "source": [
        "print(\"能被 3 或 5 整除的数的和是:\", result)"
      ],
      "metadata": {
        "id": "hx8VMjaVGEAg",
        "colab": {
          "base_uri": "https://localhost:8080/"
        },
        "outputId": "4180b572-a80f-496a-a9ed-7bf3c982cb45"
      },
      "execution_count": null,
      "outputs": [
        {
          "output_type": "stream",
          "name": "stdout",
          "text": [
            "能被 3 或 5 整除的数的和是: 2418\n"
          ]
        }
      ]
    },
    {
      "cell_type": "markdown",
      "source": [
        "### 小练习：使用 NumPy vs 使用 for 循环\n",
        "\n",
        "计算两个列表中对应元素的平方和\n",
        "即：结果 = a[i]**2 + b[i]**2 for all i"
      ],
      "metadata": {
        "id": "dxatyOehGYNx"
      }
    },
    {
      "cell_type": "markdown",
      "source": [
        "#### ✅ 使用 Python for 循环"
      ],
      "metadata": {
        "id": "UWP1k11zGzhJ"
      }
    },
    {
      "cell_type": "code",
      "source": [
        "a = list(range(10))\n",
        "b = list(range(10, 20))\n",
        "\n",
        "result = []\n",
        "for i in range(len(a)):\n",
        "    result.append(a[i]**2 + b[i]**2)"
      ],
      "metadata": {
        "id": "Gj-WdyVK1Zk2"
      },
      "execution_count": null,
      "outputs": []
    },
    {
      "cell_type": "code",
      "source": [
        "a"
      ],
      "metadata": {
        "colab": {
          "base_uri": "https://localhost:8080/"
        },
        "id": "w8qz0Ky9IiPN",
        "outputId": "10a48724-3734-49d1-a11e-819513c1c523"
      },
      "execution_count": null,
      "outputs": [
        {
          "output_type": "execute_result",
          "data": {
            "text/plain": [
              "[0, 1, 2, 3, 4, 5, 6, 7, 8, 9]"
            ]
          },
          "metadata": {},
          "execution_count": 58
        }
      ]
    },
    {
      "cell_type": "code",
      "source": [
        "b"
      ],
      "metadata": {
        "colab": {
          "base_uri": "https://localhost:8080/"
        },
        "id": "T0H-rKkQIi6c",
        "outputId": "ffdab0d2-cf38-4ae0-c60e-a0559d5d5df9"
      },
      "execution_count": null,
      "outputs": [
        {
          "output_type": "execute_result",
          "data": {
            "text/plain": [
              "[10, 11, 12, 13, 14, 15, 16, 17, 18, 19]"
            ]
          },
          "metadata": {},
          "execution_count": 59
        }
      ]
    },
    {
      "cell_type": "code",
      "source": [
        "result"
      ],
      "metadata": {
        "id": "rzQchzMnGj2l",
        "colab": {
          "base_uri": "https://localhost:8080/"
        },
        "outputId": "b4d23202-c925-4b0b-aa24-a15ab858bee1"
      },
      "execution_count": null,
      "outputs": [
        {
          "output_type": "execute_result",
          "data": {
            "text/plain": [
              "[100, 122, 148, 178, 212, 250, 292, 338, 388, 442]"
            ]
          },
          "metadata": {},
          "execution_count": 61
        }
      ]
    },
    {
      "cell_type": "markdown",
      "source": [
        "#### ✅ 使用 NumPy 向量化"
      ],
      "metadata": {
        "id": "BQvMeERJGwRZ"
      }
    },
    {
      "cell_type": "code",
      "source": [
        "import numpy as np\n",
        "\n",
        "a = np.arange(10)\n",
        "b = np.arange(10, 20)\n",
        "\n",
        "result = a**2 + b**2"
      ],
      "metadata": {
        "id": "M-3Sit-i1apn"
      },
      "execution_count": null,
      "outputs": []
    },
    {
      "cell_type": "code",
      "source": [
        "a"
      ],
      "metadata": {
        "colab": {
          "base_uri": "https://localhost:8080/"
        },
        "id": "s_TWdCXkIsAX",
        "outputId": "e30e9804-a27d-41a3-e8c8-20944ff2855a"
      },
      "execution_count": null,
      "outputs": [
        {
          "output_type": "execute_result",
          "data": {
            "text/plain": [
              "array([0, 1, 2, 3, 4, 5, 6, 7, 8, 9])"
            ]
          },
          "metadata": {},
          "execution_count": 63
        }
      ]
    },
    {
      "cell_type": "code",
      "source": [
        "b"
      ],
      "metadata": {
        "colab": {
          "base_uri": "https://localhost:8080/"
        },
        "id": "8xaHMKezItVX",
        "outputId": "4f297e21-abf6-47bb-bb02-a7c3d876ea50"
      },
      "execution_count": null,
      "outputs": [
        {
          "output_type": "execute_result",
          "data": {
            "text/plain": [
              "array([10, 11, 12, 13, 14, 15, 16, 17, 18, 19])"
            ]
          },
          "metadata": {},
          "execution_count": 64
        }
      ]
    },
    {
      "cell_type": "code",
      "source": [
        "result"
      ],
      "metadata": {
        "colab": {
          "base_uri": "https://localhost:8080/"
        },
        "id": "Ox9ucgDeIwMR",
        "outputId": "a4ee2e71-e0d4-4945-c26b-e1a4372f150c"
      },
      "execution_count": null,
      "outputs": [
        {
          "output_type": "execute_result",
          "data": {
            "text/plain": [
              "array([100, 122, 148, 178, 212, 250, 292, 338, 388, 442])"
            ]
          },
          "metadata": {},
          "execution_count": 65
        }
      ]
    },
    {
      "cell_type": "markdown",
      "source": [
        "### 小练习：多个数组运算 + 广播对比"
      ],
      "metadata": {
        "id": "u096OVhkG-Z_"
      }
    },
    {
      "cell_type": "code",
      "source": [
        "A = [[1, 2, 3, 4],\n",
        "     [5, 6, 7, 8],\n",
        "     [9, 10, 11, 12]]\n",
        "\n",
        "v = [1, 0, 1, 0]"
      ],
      "metadata": {
        "id": "UGvi4piP1dYW"
      },
      "execution_count": null,
      "outputs": []
    },
    {
      "cell_type": "markdown",
      "source": [
        "\n",
        "\n",
        "```\n",
        "A.shape == (3, 4)\n",
        "v.shape == (4,)\n",
        "```\n",
        "\n"
      ],
      "metadata": {
        "id": "CMk6ShLeHdmE"
      }
    },
    {
      "cell_type": "code",
      "source": [
        "result = []\n",
        "\n",
        "for row in A:\n",
        "  # print(row)\n",
        "  result.append([row[i] + v[i] for i in range(len(v))])\n",
        "\n",
        "print(result)"
      ],
      "metadata": {
        "id": "ZkI6EzLYHG0T",
        "colab": {
          "base_uri": "https://localhost:8080/"
        },
        "outputId": "54e5f33d-e426-4f97-c05a-cb4745f5670e"
      },
      "execution_count": null,
      "outputs": [
        {
          "output_type": "stream",
          "name": "stdout",
          "text": [
            "[[2, 2, 4, 4], [6, 6, 8, 8], [10, 10, 12, 12]]\n"
          ]
        }
      ]
    },
    {
      "cell_type": "markdown",
      "source": [
        "#### ✅ 使用 NumPy 广播"
      ],
      "metadata": {
        "id": "O0gXNyiUHY9q"
      }
    },
    {
      "cell_type": "code",
      "source": [
        "import numpy as np\n",
        "\n",
        "A = np.array([[1, 2, 3, 4],\n",
        "              [5, 6, 7, 8],\n",
        "              [9, 10, 11, 12]])\n",
        "\n",
        "v = np.array([1, 0, 1, 0])\n",
        "\n",
        "result = A + v\n",
        "\n",
        "print(result)"
      ],
      "metadata": {
        "id": "D-8Pdmg_1e8m",
        "colab": {
          "base_uri": "https://localhost:8080/"
        },
        "outputId": "11ff5cba-e1ca-4de6-b423-fdc73ecd2d8a"
      },
      "execution_count": null,
      "outputs": [
        {
          "output_type": "stream",
          "name": "stdout",
          "text": [
            "[[ 2  2  4  4]\n",
            " [ 6  6  8  8]\n",
            " [10 10 12 12]]\n"
          ]
        }
      ]
    },
    {
      "cell_type": "markdown",
      "source": [
        "## ✅ 总结 / Summary"
      ],
      "metadata": {
        "id": "J4HBi8Kc1KGO"
      }
    },
    {
      "cell_type": "markdown",
      "source": [
        "| NumPy 概念        | 说明                                                         |\n",
        "|------------------|------------------------------------------------------------|\n",
        "| `ndarray`         | 高效的多维数组对象，支持元素级操作，存储结构紧凑                |\n",
        "| 向量化操作        | 避免显式 `for` 循环，使用数组间的批量运算提高计算效率            |\n",
        "| 广播（Broadcasting）| 使不同形状的数组可以进行算术运算，如标量加到矩阵上每个元素         |\n",
        "| 随机模块           | 提供生成随机数的函数（如正态分布、均匀分布），用于模拟实验或创建数据集 |"
      ],
      "metadata": {
        "id": "bt82LvzF050k"
      }
    },
    {
      "cell_type": "markdown",
      "source": [
        "## 📌 课后练习题"
      ],
      "metadata": {
        "id": "uLEymIwt1P74"
      }
    },
    {
      "cell_type": "markdown",
      "source": [
        "### ✅ 练习 1：数组创建与统计分析\n",
        "\n",
        "**题目：**\n",
        "创建一个包含 100 个介于 10 和 50 之间的整数的随机数组，完成以下任务：\n",
        "\n",
        "\t•\t输出最大值、最小值、平均值、中位数\n",
        "\t•\t统计每个数字出现的次数（提示：np.unique）"
      ],
      "metadata": {
        "id": "OjMM9ciW1reI"
      }
    },
    {
      "cell_type": "code",
      "source": [
        "import numpy as np\n",
        "\n",
        "# 在这里写代码👇\n"
      ],
      "metadata": {
        "id": "KcNs8Kt81H_z"
      },
      "execution_count": null,
      "outputs": []
    },
    {
      "cell_type": "markdown",
      "source": [
        "### ✅ 练习 2：向量化运算与布尔筛选\n",
        "\n",
        "**题目：**\n",
        "给定一个随机数组 arr = np.random.randint(0, 100, size=50)，完成以下操作：\n",
        "\n",
        "\t•\t找出所有大于等于 50 的数\n",
        "\t•\t将这些数乘以 2，其余不变，生成新的数组\n"
      ],
      "metadata": {
        "id": "HYWA-2bZ1zsd"
      }
    },
    {
      "cell_type": "code",
      "source": [
        "import numpy as np\n",
        "\n",
        "arr = np.random.randint(0, 100, size=50)\n",
        "\n",
        "# 在这里写代码👇\n"
      ],
      "metadata": {
        "id": "QMUwCaVP15c-"
      },
      "execution_count": null,
      "outputs": []
    },
    {
      "cell_type": "markdown",
      "source": [
        "### ✅ 练习 3：矩阵与广播\n",
        "\n",
        "**题目：**\n",
        "给定一个矩阵 A，每一行表示一位学生的 4 门课程成绩。现在假设每门课程有一个加权系数 [0.1, 0.2, 0.3, 0.4]，请使用广播计算每位学生的加权平均分。"
      ],
      "metadata": {
        "id": "KNrisOhE17l8"
      }
    },
    {
      "cell_type": "code",
      "source": [
        "import numpy as np\n",
        "\n",
        "A = np.array([\n",
        "    [80, 90, 85, 70],\n",
        "    [78, 88, 82, 76],\n",
        "    [92, 85, 87, 80]\n",
        "])\n",
        "\n",
        "weights = np.array([0.1, 0.2, 0.3, 0.4])\n",
        "\n",
        "# 在这里写代码👇\n",
        "\n"
      ],
      "metadata": {
        "id": "egVLkeoa1_vQ"
      },
      "execution_count": null,
      "outputs": []
    }
  ]
}