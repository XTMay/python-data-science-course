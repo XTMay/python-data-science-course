{
  "nbformat": 4,
  "nbformat_minor": 0,
  "metadata": {
    "colab": {
      "provenance": [],
      "collapsed_sections": [
        "nsb5gqhWlap-",
        "RA1Q_PQ2ld1F"
      ],
      "mount_file_id": "1Q9LjWBS8tARXZO0S_Qx9t0t9oXhWeWAF",
      "authorship_tag": "ABX9TyMxwNSI6cnq8I0GGH2g1fws",
      "include_colab_link": true
    },
    "kernelspec": {
      "name": "python3",
      "display_name": "Python 3"
    },
    "language_info": {
      "name": "python"
    }
  },
  "cells": [
    {
      "cell_type": "markdown",
      "metadata": {
        "id": "view-in-github",
        "colab_type": "text"
      },
      "source": [
        "<a href=\"https://colab.research.google.com/github/XTMay/python-data-science-course/blob/main/notebooks/Lec_1_Python_Basics_for_Data_Science.ipynb\" target=\"_parent\"><img src=\"https://colab.research.google.com/assets/colab-badge.svg\" alt=\"Open In Colab\"/></a>"
      ]
    },
    {
      "cell_type": "markdown",
      "source": [
        "# Lesson 01: Python Basics for Data Science"
      ],
      "metadata": {
        "id": "zXObiq7rcpIK"
      }
    },
    {
      "cell_type": "markdown",
      "source": [
        "**目标**：掌握 Python 的基本语法、变量、数据结构和控制流程，为后续的数据处理和分析打下基础。"
      ],
      "metadata": {
        "id": "E3Kn5szIj_c-"
      }
    },
    {
      "cell_type": "markdown",
      "source": [
        "\n",
        "\n",
        "\n",
        "## 📚 课程提纲\n"
      ],
      "metadata": {
        "id": "ZfgRtt8Wd5EW"
      }
    },
    {
      "cell_type": "markdown",
      "source": [
        "### 1️⃣ Python 简介\n",
        "#### 💻 什么是 Python？\n",
        "\n",
        "[Welcome to Python](https://www.python.org/)"
      ],
      "metadata": {
        "id": "THTfze2skv_g"
      }
    },
    {
      "cell_type": "markdown",
      "source": [
        "Python 是一种高级、通用、解释型的编程语言，由 Guido van Rossum 于 1991 年发布。它以语法简洁、易读性强、开发效率高著称，非常适合初学者入门，也足以支撑大型系统开发。\n",
        "\n",
        "`✅ 一句话理解：Python 就像英文一样自然，它让写代码更接近人类思维。`"
      ],
      "metadata": {
        "id": "ilgVzJ_c0OX0"
      }
    },
    {
      "cell_type": "markdown",
      "source": [
        "[tutorial](https://docs.python.org/3.15/tutorial/index.html)"
      ],
      "metadata": {
        "id": "uyZmmlQ80HU7"
      }
    },
    {
      "cell_type": "markdown",
      "source": [
        "#### 📊 为什么 Python 广泛应用于数据科学？"
      ],
      "metadata": {
        "id": "laRrrSDYyZHW"
      }
    },
    {
      "cell_type": "markdown",
      "source": [
        "#### Python has libraries with large collections of mathematical functions and analytical tools.\n",
        "\n",
        "*   Pandas - This library is used for structured data operations,\n",
        "like import CSV files, create dataframes, and data preparation\n",
        "*   Numpy - This is a mathematical library. Has a powerful N-dimensional array object, linear algebra, Fourier transform, etc.\n",
        "*   Matplotlib - This library is used for visualization of data.\n",
        "*   SciPy - This library has linear algebra modules\n",
        "We will use these libraries throughout the tutorial to create examples."
      ],
      "metadata": {
        "id": "wVGecev4yJET"
      }
    },
    {
      "cell_type": "markdown",
      "source": [
        "| 优势 | 说明 |\n",
        "|------|------|\n",
        "| 📚 丰富的科学计算库 | 如 NumPy（数值计算）、pandas（数据处理）、Matplotlib/Seaborn（可视化）、scikit-learn（机器学习）等，使得数据处理变得高效而轻松。 |\n",
        "| 🧠 强大的 AI / ML 支持 | 包括 TensorFlow、PyTorch、XGBoost、LightGBM 等深度学习和建模框架，几乎所有主流 AI 工具都有 Python 接口。 |\n",
        "| 🛠️ 简洁易学，代码可读性强 | 相比 R 或 Java，Python 更容易学习和维护，非常适合非程序员背景的数据分析师、科研人员。 |\n",
        "| 🌍 强大的社区和生态系统 | 无论是初学者教程、开源项目还是技术问答（如 StackOverflow），Python 的数据科学社区非常活跃，遇到问题容易找到解决方案。 |\n",
        "| 📈 跨平台和可扩展性 | Python 可以在 Windows / Mac / Linux 上运行，也能与 C/C++/Java 等语言集成，非常灵活。 |"
      ],
      "metadata": {
        "id": "USyJeetvyVHk"
      }
    },
    {
      "cell_type": "code",
      "source": [
        "print(\"Hello, Data Science! 👋\")"
      ],
      "metadata": {
        "id": "gXm01V-lkmHR",
        "colab": {
          "base_uri": "https://localhost:8080/"
        },
        "outputId": "4d720107-052f-41ac-91d0-2c7e31150c69"
      },
      "execution_count": null,
      "outputs": [
        {
          "output_type": "stream",
          "name": "stdout",
          "text": [
            "Hello, Data Science! 👋\n"
          ]
        }
      ]
    },
    {
      "cell_type": "code",
      "source": [
        "print(\"Hello World!\") # Function: print, parameter: \"Hello World!\""
      ],
      "metadata": {
        "id": "JS5KlKm1eTAb",
        "colab": {
          "base_uri": "https://localhost:8080/"
        },
        "outputId": "63364bdb-bc48-4e2a-ab2f-e2cac9eb988a"
      },
      "execution_count": null,
      "outputs": [
        {
          "output_type": "stream",
          "name": "stdout",
          "text": [
            "Hello World!\n"
          ]
        }
      ]
    },
    {
      "cell_type": "markdown",
      "source": [
        "### 2️⃣ 变量与基本数据类型"
      ],
      "metadata": {
        "id": "p1DbL7Aic280"
      }
    },
    {
      "cell_type": "markdown",
      "source": [
        "\t•\t常见类型：int, float, str, bool\n",
        "\t•\t类型检查与转换：type(), int(), float(), str()"
      ],
      "metadata": {
        "id": "7ymzpi9TkyyK"
      }
    },
    {
      "cell_type": "code",
      "source": [
        "name = \"Alice\"\n",
        "age = 28\n",
        "height = 1.65\n",
        "is_data_scientist = False"
      ],
      "metadata": {
        "id": "_ucb5GLKk0Ng"
      },
      "execution_count": null,
      "outputs": []
    },
    {
      "cell_type": "code",
      "source": [
        "print(name, age, height, is_data_scientist)"
      ],
      "metadata": {
        "id": "TyMjhQQ0erIt",
        "colab": {
          "base_uri": "https://localhost:8080/"
        },
        "outputId": "d41eae9c-7a83-4a6a-8bbb-2ef7dde27750"
      },
      "execution_count": null,
      "outputs": [
        {
          "output_type": "stream",
          "name": "stdout",
          "text": [
            "Alice 28 1.65 True\n"
          ]
        }
      ]
    },
    {
      "cell_type": "code",
      "source": [
        "print(type(name))"
      ],
      "metadata": {
        "id": "trjKjlh7ezsG",
        "colab": {
          "base_uri": "https://localhost:8080/"
        },
        "outputId": "28a5feba-2b57-454c-b412-d8b0a427f967"
      },
      "execution_count": null,
      "outputs": [
        {
          "output_type": "stream",
          "name": "stdout",
          "text": [
            "<class 'str'>\n"
          ]
        }
      ]
    },
    {
      "cell_type": "code",
      "source": [
        "print(type(3.14))"
      ],
      "metadata": {
        "id": "lQwh7A_Ze23P",
        "colab": {
          "base_uri": "https://localhost:8080/"
        },
        "outputId": "9e18568f-9727-432f-fd8d-bffeb6a5eb13"
      },
      "execution_count": null,
      "outputs": [
        {
          "output_type": "stream",
          "name": "stdout",
          "text": [
            "<class 'float'>\n"
          ]
        }
      ]
    },
    {
      "cell_type": "markdown",
      "source": [
        "- True: 1, False: 0"
      ],
      "metadata": {
        "id": "kY9DMA0h9IVz"
      }
    },
    {
      "cell_type": "code",
      "source": [
        "is_data_scientist = False"
      ],
      "metadata": {
        "id": "7e_uPu-n9URw"
      },
      "execution_count": null,
      "outputs": []
    },
    {
      "cell_type": "code",
      "source": [
        "float(is_data_scientist)"
      ],
      "metadata": {
        "colab": {
          "base_uri": "https://localhost:8080/"
        },
        "id": "PNp03MoG9AoP",
        "outputId": "a7ccdf3f-f505-4744-faef-f7e31046a5c1"
      },
      "execution_count": null,
      "outputs": [
        {
          "output_type": "execute_result",
          "data": {
            "text/plain": [
              "0.0"
            ]
          },
          "metadata": {},
          "execution_count": 14
        }
      ]
    },
    {
      "cell_type": "markdown",
      "source": [
        "### \t用户输入函数（Data Collection）"
      ],
      "metadata": {
        "id": "ZoNyuNeCk9Z1"
      }
    },
    {
      "cell_type": "code",
      "source": [
        "user_name = input(\"请输入你的名字：\")\n",
        "print(\"欢迎加入数据科学世界，\", user_name)"
      ],
      "metadata": {
        "id": "YNBmh-5Yk998",
        "colab": {
          "base_uri": "https://localhost:8080/"
        },
        "outputId": "056d4fdf-587b-4ff6-83e5-27b059cf775d"
      },
      "execution_count": null,
      "outputs": [
        {
          "output_type": "stream",
          "name": "stdout",
          "text": [
            "请输入你的名字：ma\n",
            "欢迎加入数据科学世界， ma\n"
          ]
        }
      ]
    },
    {
      "cell_type": "markdown",
      "source": [
        "### 3️⃣ 常见数据结构"
      ],
      "metadata": {
        "id": "UwJsjKkIlFFm"
      }
    },
    {
      "cell_type": "markdown",
      "source": [
        "#### 🔹 List（列表）— 数据集基本容器"
      ],
      "metadata": {
        "id": "4hO2dB9plHhe"
      }
    },
    {
      "cell_type": "code",
      "source": [
        "cities = [\"Tokyo\", \"New York\", \"London\"]"
      ],
      "metadata": {
        "id": "Va13YIaClFl0"
      },
      "execution_count": null,
      "outputs": []
    },
    {
      "cell_type": "code",
      "source": [
        "cities.append(\"Shanghai\") # List use append"
      ],
      "metadata": {
        "id": "b3BH0zYAfPGP"
      },
      "execution_count": null,
      "outputs": []
    },
    {
      "cell_type": "code",
      "source": [
        "print(cities)"
      ],
      "metadata": {
        "id": "1lmwtPlBfRdj",
        "colab": {
          "base_uri": "https://localhost:8080/"
        },
        "outputId": "95e92a2d-3bc9-4703-83de-605d8334ab80"
      },
      "execution_count": null,
      "outputs": [
        {
          "output_type": "stream",
          "name": "stdout",
          "text": [
            "['Tokyo', 'New York', 'London', 'Shanghai']\n"
          ]
        }
      ]
    },
    {
      "cell_type": "code",
      "source": [
        "cities[2]"
      ],
      "metadata": {
        "id": "dBgFPgsYfVQG",
        "colab": {
          "base_uri": "https://localhost:8080/",
          "height": 35
        },
        "outputId": "6af1508e-8f7e-4993-c78a-e0fa51d1f16d"
      },
      "execution_count": null,
      "outputs": [
        {
          "output_type": "execute_result",
          "data": {
            "text/plain": [
              "'London'"
            ],
            "application/vnd.google.colaboratory.intrinsic+json": {
              "type": "string"
            }
          },
          "metadata": {},
          "execution_count": 19
        }
      ]
    },
    {
      "cell_type": "code",
      "source": [
        "cities"
      ],
      "metadata": {
        "colab": {
          "base_uri": "https://localhost:8080/"
        },
        "id": "_EKGsP3Q94Ce",
        "outputId": "23afeb0b-30ac-47ed-df7c-f19dfdd24b7d"
      },
      "execution_count": null,
      "outputs": [
        {
          "output_type": "execute_result",
          "data": {
            "text/plain": [
              "['Tokyo', 'New York', 'London', 'Shanghai']"
            ]
          },
          "metadata": {},
          "execution_count": 22
        }
      ]
    },
    {
      "cell_type": "code",
      "source": [
        "len(cities)"
      ],
      "metadata": {
        "colab": {
          "base_uri": "https://localhost:8080/"
        },
        "id": "QSQY2dXe9ztF",
        "outputId": "31334b88-a7df-418d-eb4d-e20050824b3d"
      },
      "execution_count": null,
      "outputs": [
        {
          "output_type": "execute_result",
          "data": {
            "text/plain": [
              "4"
            ]
          },
          "metadata": {},
          "execution_count": 21
        }
      ]
    },
    {
      "cell_type": "code",
      "source": [
        "len('Tokyo')"
      ],
      "metadata": {
        "id": "bh_PgZfLfato",
        "colab": {
          "base_uri": "https://localhost:8080/"
        },
        "outputId": "2c52bd73-3d1f-4525-c76f-01834ae11302"
      },
      "execution_count": null,
      "outputs": [
        {
          "output_type": "execute_result",
          "data": {
            "text/plain": [
              "5"
            ]
          },
          "metadata": {},
          "execution_count": 20
        }
      ]
    },
    {
      "cell_type": "code",
      "source": [
        "lst_test = [123, \"123\", 123.45, True]"
      ],
      "metadata": {
        "id": "ynetdDWgftpN"
      },
      "execution_count": null,
      "outputs": []
    },
    {
      "cell_type": "code",
      "source": [
        "lst_test[-1]"
      ],
      "metadata": {
        "id": "w7SCeopff14D",
        "colab": {
          "base_uri": "https://localhost:8080/"
        },
        "outputId": "20a68aaf-f106-4cdc-95e5-a2afb29d6fbb"
      },
      "execution_count": null,
      "outputs": [
        {
          "output_type": "execute_result",
          "data": {
            "text/plain": [
              "True"
            ]
          },
          "metadata": {},
          "execution_count": 24
        }
      ]
    },
    {
      "cell_type": "code",
      "source": [
        "lst_test[-2]"
      ],
      "metadata": {
        "id": "2CwksyK-f4XH",
        "colab": {
          "base_uri": "https://localhost:8080/"
        },
        "outputId": "6984a76e-e836-463f-e375-fcb2482c5b85"
      },
      "execution_count": null,
      "outputs": [
        {
          "output_type": "execute_result",
          "data": {
            "text/plain": [
              "123.45"
            ]
          },
          "metadata": {},
          "execution_count": 25
        }
      ]
    },
    {
      "cell_type": "markdown",
      "source": [
        "#### 🔹 Dict（字典）— 类似数据库中键值结构 (key-value)"
      ],
      "metadata": {
        "id": "1KOpfD5dlKk5"
      }
    },
    {
      "cell_type": "code",
      "source": [
        "person = {\"name\": \"Alice\", \"age\": 28} # key: value(any type)"
      ],
      "metadata": {
        "id": "mEsnfYKdlLNs"
      },
      "execution_count": null,
      "outputs": []
    },
    {
      "cell_type": "code",
      "source": [
        "person"
      ],
      "metadata": {
        "colab": {
          "base_uri": "https://localhost:8080/"
        },
        "id": "fhpO8axq-R__",
        "outputId": "9f7a99c6-e2b9-42bb-90b4-8e645fe2f8c0"
      },
      "execution_count": null,
      "outputs": [
        {
          "output_type": "execute_result",
          "data": {
            "text/plain": [
              "{'name': 'Alice', 'age': 28}"
            ]
          },
          "metadata": {},
          "execution_count": 27
        }
      ]
    },
    {
      "cell_type": "code",
      "source": [
        "print(person[\"name\"])"
      ],
      "metadata": {
        "id": "8iAGybeDgEys",
        "colab": {
          "base_uri": "https://localhost:8080/"
        },
        "outputId": "de14d4ac-74dc-4dea-f496-4e302308bc70"
      },
      "execution_count": null,
      "outputs": [
        {
          "output_type": "stream",
          "name": "stdout",
          "text": [
            "May\n"
          ]
        }
      ]
    },
    {
      "cell_type": "code",
      "source": [
        "person[\"name\"] = 'May'"
      ],
      "metadata": {
        "id": "a4UZAcQtgKML"
      },
      "execution_count": null,
      "outputs": []
    },
    {
      "cell_type": "code",
      "source": [
        "person"
      ],
      "metadata": {
        "id": "cJV4pR6VgPfq",
        "colab": {
          "base_uri": "https://localhost:8080/"
        },
        "outputId": "e18c9361-360a-4711-85d9-c79b711799f6"
      },
      "execution_count": null,
      "outputs": [
        {
          "output_type": "execute_result",
          "data": {
            "text/plain": [
              "{'name': 'May', 'age': 28}"
            ]
          },
          "metadata": {},
          "execution_count": 30
        }
      ]
    },
    {
      "cell_type": "code",
      "source": [
        "dic_test = {1: '1', '2': 2}"
      ],
      "metadata": {
        "id": "8TzPa1FtgoRj"
      },
      "execution_count": null,
      "outputs": []
    },
    {
      "cell_type": "code",
      "source": [
        "dic_test[1]"
      ],
      "metadata": {
        "id": "JCGGbOFSgwDQ",
        "colab": {
          "base_uri": "https://localhost:8080/",
          "height": 35
        },
        "outputId": "55d4cf23-08d5-4b9c-ec0c-b09f1571dc3f"
      },
      "execution_count": null,
      "outputs": [
        {
          "output_type": "execute_result",
          "data": {
            "text/plain": [
              "'1'"
            ],
            "application/vnd.google.colaboratory.intrinsic+json": {
              "type": "string"
            }
          },
          "metadata": {},
          "execution_count": 33
        }
      ]
    },
    {
      "cell_type": "code",
      "source": [
        "dic_test = {3.14: '1', 4.23: 2}"
      ],
      "metadata": {
        "id": "EquBp6wPgx9X"
      },
      "execution_count": null,
      "outputs": []
    },
    {
      "cell_type": "code",
      "source": [
        "dic_test[3.14]"
      ],
      "metadata": {
        "id": "eZmOR8thg1xJ",
        "colab": {
          "base_uri": "https://localhost:8080/",
          "height": 35
        },
        "outputId": "33a95f87-e6fa-441e-a5fc-99f9bb2a7db5"
      },
      "execution_count": null,
      "outputs": [
        {
          "output_type": "execute_result",
          "data": {
            "text/plain": [
              "'1'"
            ],
            "application/vnd.google.colaboratory.intrinsic+json": {
              "type": "string"
            }
          },
          "metadata": {},
          "execution_count": 35
        }
      ]
    },
    {
      "cell_type": "code",
      "source": [
        "dic_test = {True: 1, False: 0}"
      ],
      "metadata": {
        "id": "QnCrXEVIg4Kv"
      },
      "execution_count": null,
      "outputs": []
    },
    {
      "cell_type": "code",
      "source": [
        "dic_test[True]"
      ],
      "metadata": {
        "id": "w_V24-XYg7lq",
        "colab": {
          "base_uri": "https://localhost:8080/"
        },
        "outputId": "74afd25c-6d6d-4015-cd5c-c0caf66324be"
      },
      "execution_count": null,
      "outputs": [
        {
          "output_type": "execute_result",
          "data": {
            "text/plain": [
              "1"
            ]
          },
          "metadata": {},
          "execution_count": 37
        }
      ]
    },
    {
      "cell_type": "code",
      "source": [
        "dic_test = {\"list\": {\"1\": 1, \"5\": 5}, \"dict\": {\"key\": \"value\", \"key2\": \"value2\"}}"
      ],
      "metadata": {
        "id": "zzU4Liajg_cY"
      },
      "execution_count": null,
      "outputs": []
    },
    {
      "cell_type": "code",
      "source": [
        "dic_test_2 = {[1, 2, 3]: \"test\"} # key: int, float, str, bool, value:  any"
      ],
      "metadata": {
        "id": "MlUrHHzJhSXS",
        "colab": {
          "base_uri": "https://localhost:8080/",
          "height": 144
        },
        "outputId": "69c5a7a2-c0ff-484c-b031-c90f51cf3384"
      },
      "execution_count": null,
      "outputs": [
        {
          "output_type": "error",
          "ename": "TypeError",
          "evalue": "unhashable type: 'list'",
          "traceback": [
            "\u001b[0;31m---------------------------------------------------------------------------\u001b[0m",
            "\u001b[0;31mTypeError\u001b[0m                                 Traceback (most recent call last)",
            "\u001b[0;32m/tmp/ipython-input-761493458.py\u001b[0m in \u001b[0;36m<cell line: 0>\u001b[0;34m()\u001b[0m\n\u001b[0;32m----> 1\u001b[0;31m \u001b[0mdic_test_2\u001b[0m \u001b[0;34m=\u001b[0m \u001b[0;34m{\u001b[0m\u001b[0;34m[\u001b[0m\u001b[0;36m1\u001b[0m\u001b[0;34m,\u001b[0m \u001b[0;36m2\u001b[0m\u001b[0;34m,\u001b[0m \u001b[0;36m3\u001b[0m\u001b[0;34m]\u001b[0m\u001b[0;34m:\u001b[0m \u001b[0;34m\"test\"\u001b[0m\u001b[0;34m}\u001b[0m \u001b[0;31m# key: int, float, str, bool, value:  any\u001b[0m\u001b[0;34m\u001b[0m\u001b[0;34m\u001b[0m\u001b[0m\n\u001b[0m",
            "\u001b[0;31mTypeError\u001b[0m: unhashable type: 'list'"
          ]
        }
      ]
    },
    {
      "cell_type": "markdown",
      "source": [
        "- Key: Unique"
      ],
      "metadata": {
        "id": "dIEV4XFG-3in"
      }
    },
    {
      "cell_type": "code",
      "source": [
        "person['height'] = 164 # add an item/update"
      ],
      "metadata": {
        "id": "ymCnSb9Mh_kM"
      },
      "execution_count": null,
      "outputs": []
    },
    {
      "cell_type": "code",
      "source": [
        "person"
      ],
      "metadata": {
        "id": "zT4tBo7chjpQ",
        "colab": {
          "base_uri": "https://localhost:8080/"
        },
        "outputId": "ec80da74-12d1-432b-8b92-6b4a77c5dcf1"
      },
      "execution_count": null,
      "outputs": [
        {
          "output_type": "execute_result",
          "data": {
            "text/plain": [
              "{'name': 'May', 'age': 18, 'height': 164}"
            ]
          },
          "metadata": {},
          "execution_count": 43
        }
      ]
    },
    {
      "cell_type": "code",
      "source": [
        "person['age'] = 18"
      ],
      "metadata": {
        "id": "dyO6XI2IiOjw"
      },
      "execution_count": null,
      "outputs": []
    },
    {
      "cell_type": "markdown",
      "source": [
        "#### 🔹 Tuple（元组）& Set（集合）"
      ],
      "metadata": {
        "id": "C2uJkfFVlNfn"
      }
    },
    {
      "cell_type": "code",
      "source": [
        "coordinates = (35.6, 139.6) # Tuple 不可修改"
      ],
      "metadata": {
        "id": "iDmYzEpgiipJ"
      },
      "execution_count": null,
      "outputs": []
    },
    {
      "cell_type": "code",
      "source": [
        "coordinates"
      ],
      "metadata": {
        "colab": {
          "base_uri": "https://localhost:8080/"
        },
        "id": "kgfWld75_Sng",
        "outputId": "7eaee8dd-8eee-4b15-f722-38ca4e6b89f0"
      },
      "execution_count": null,
      "outputs": [
        {
          "output_type": "execute_result",
          "data": {
            "text/plain": [
              "(35.6, 139.6)"
            ]
          },
          "metadata": {},
          "execution_count": 45
        }
      ]
    },
    {
      "cell_type": "code",
      "source": [
        "coordinates[1]"
      ],
      "metadata": {
        "colab": {
          "base_uri": "https://localhost:8080/"
        },
        "id": "euMuA9TZ_Vpj",
        "outputId": "1167aed9-98b7-4528-f16e-b809ddd559d7"
      },
      "execution_count": null,
      "outputs": [
        {
          "output_type": "execute_result",
          "data": {
            "text/plain": [
              "139.6"
            ]
          },
          "metadata": {},
          "execution_count": 47
        }
      ]
    },
    {
      "cell_type": "code",
      "source": [
        "coordinates[1] = 123 # 'tuple' object does not support item assignment"
      ],
      "metadata": {
        "id": "8V4I8eBHimbw",
        "colab": {
          "base_uri": "https://localhost:8080/",
          "height": 144
        },
        "outputId": "adad6cc1-d250-4c3a-c36f-13cd5c6aab3a"
      },
      "execution_count": null,
      "outputs": [
        {
          "output_type": "error",
          "ename": "TypeError",
          "evalue": "'tuple' object does not support item assignment",
          "traceback": [
            "\u001b[0;31m---------------------------------------------------------------------------\u001b[0m",
            "\u001b[0;31mTypeError\u001b[0m                                 Traceback (most recent call last)",
            "\u001b[0;32m/tmp/ipython-input-3722967674.py\u001b[0m in \u001b[0;36m<cell line: 0>\u001b[0;34m()\u001b[0m\n\u001b[0;32m----> 1\u001b[0;31m \u001b[0mcoordinates\u001b[0m\u001b[0;34m[\u001b[0m\u001b[0;36m1\u001b[0m\u001b[0;34m]\u001b[0m \u001b[0;34m=\u001b[0m \u001b[0;36m123\u001b[0m \u001b[0;31m# 'tuple' object does not support item assignment\u001b[0m\u001b[0;34m\u001b[0m\u001b[0;34m\u001b[0m\u001b[0m\n\u001b[0m",
            "\u001b[0;31mTypeError\u001b[0m: 'tuple' object does not support item assignment"
          ]
        }
      ]
    },
    {
      "cell_type": "code",
      "source": [
        "unique_items = set([1, 2, 2, 3])  # Set 自动去重"
      ],
      "metadata": {
        "id": "LHrHA413ixhg"
      },
      "execution_count": null,
      "outputs": []
    },
    {
      "cell_type": "code",
      "source": [
        "unique_items"
      ],
      "metadata": {
        "id": "DjPhXuRHlOHC",
        "colab": {
          "base_uri": "https://localhost:8080/"
        },
        "outputId": "08e444a2-bfcd-42df-a068-ce718655f742"
      },
      "execution_count": null,
      "outputs": [
        {
          "output_type": "execute_result",
          "data": {
            "text/plain": [
              "{1, 2, 3}"
            ]
          },
          "metadata": {},
          "execution_count": 49
        }
      ]
    },
    {
      "cell_type": "markdown",
      "source": [
        "### 4️⃣ 控制流程"
      ],
      "metadata": {
        "id": "UXjr4L_HlQpn"
      }
    },
    {
      "cell_type": "markdown",
      "source": [
        "#### 🔸 条件判断：if / elif / else"
      ],
      "metadata": {
        "id": "Arla6dHtlSjU"
      }
    },
    {
      "cell_type": "code",
      "source": [
        "score = 85"
      ],
      "metadata": {
        "id": "u95NO4wXlRQ4"
      },
      "execution_count": null,
      "outputs": []
    },
    {
      "cell_type": "code",
      "source": [
        "if score >= 90:\n",
        "    print(\"优秀\")\n",
        "elif 60 <= score < 80:\n",
        "    print(\"及格\")\n",
        "else:\n",
        "    print(\"不及格\")"
      ],
      "metadata": {
        "id": "E2yOUTj6jACz",
        "colab": {
          "base_uri": "https://localhost:8080/"
        },
        "outputId": "818a8f7f-c565-41b5-fc9d-b85acbfd05a8"
      },
      "execution_count": null,
      "outputs": [
        {
          "output_type": "stream",
          "name": "stdout",
          "text": [
            "不及格\n"
          ]
        }
      ]
    },
    {
      "cell_type": "markdown",
      "source": [
        "- condition 1 **AND** condition 2\n",
        "- condition 1 **OR** condition 2"
      ],
      "metadata": {
        "id": "BVA6NUSskDDv"
      }
    },
    {
      "cell_type": "code",
      "source": [
        "True or False"
      ],
      "metadata": {
        "colab": {
          "base_uri": "https://localhost:8080/"
        },
        "id": "L8ZW0iwR_1b_",
        "outputId": "b118bfdb-2541-4eb2-acfa-ce52d751b7fb"
      },
      "execution_count": null,
      "outputs": [
        {
          "output_type": "execute_result",
          "data": {
            "text/plain": [
              "True"
            ]
          },
          "metadata": {},
          "execution_count": 56
        }
      ]
    },
    {
      "cell_type": "code",
      "source": [
        "height = 170"
      ],
      "metadata": {
        "id": "KirnSuchABz2"
      },
      "execution_count": null,
      "outputs": []
    },
    {
      "cell_type": "code",
      "source": [
        "if height > 170 and height < 2:\n",
        "  print(\"high\")\n",
        "elif height <= 170 or height > 164: # height < 170 AND height >= 160\n",
        "  print(\"medium\")\n",
        "else:\n",
        "  print(\"low\")"
      ],
      "metadata": {
        "id": "0Jr-SE4njMGI",
        "colab": {
          "base_uri": "https://localhost:8080/"
        },
        "outputId": "d4125662-43ed-499e-84fd-7140ba81afb3"
      },
      "execution_count": null,
      "outputs": [
        {
          "output_type": "stream",
          "name": "stdout",
          "text": [
            "medium\n"
          ]
        }
      ]
    },
    {
      "cell_type": "markdown",
      "source": [
        "#### 🔸 循环结构：for / while"
      ],
      "metadata": {
        "id": "qZFxJSrXlVde"
      }
    },
    {
      "cell_type": "code",
      "source": [
        "lst = [1, 2, 3]"
      ],
      "metadata": {
        "id": "C0QKTVpqAf84"
      },
      "execution_count": null,
      "outputs": []
    },
    {
      "cell_type": "code",
      "source": [
        "for item in lst:\n",
        "  print(item)"
      ],
      "metadata": {
        "colab": {
          "base_uri": "https://localhost:8080/"
        },
        "id": "X84yYBMrAdel",
        "outputId": "029523a2-6f99-4d80-dc0a-07d5f0893ec9"
      },
      "execution_count": null,
      "outputs": [
        {
          "output_type": "stream",
          "name": "stdout",
          "text": [
            "1\n",
            "2\n",
            "3\n"
          ]
        }
      ]
    },
    {
      "cell_type": "code",
      "source": [
        "for i in range(1, 15, 5):\n",
        "    print(\"Data point\", i)"
      ],
      "metadata": {
        "id": "dODktx65kMxS",
        "colab": {
          "base_uri": "https://localhost:8080/"
        },
        "outputId": "3cfbf580-4197-43cf-d917-9d21823dfe6b"
      },
      "execution_count": null,
      "outputs": [
        {
          "output_type": "stream",
          "name": "stdout",
          "text": [
            "Data point 1\n",
            "Data point 6\n",
            "Data point 11\n"
          ]
        }
      ]
    },
    {
      "cell_type": "code",
      "source": [
        "n = 0"
      ],
      "metadata": {
        "id": "0H2j-29qBT2a"
      },
      "execution_count": null,
      "outputs": []
    },
    {
      "cell_type": "code",
      "source": [
        "while n < 6:\n",
        "    print(\"循环次数:\", n)\n",
        "    if n == 4:\n",
        "      n += 1\n",
        "      continue\n",
        "\n",
        "    n += 1\n",
        "    print('n+1')\n"
      ],
      "metadata": {
        "id": "oTfMZY3JlWFw",
        "colab": {
          "base_uri": "https://localhost:8080/"
        },
        "outputId": "5c2e6ad9-47b3-404c-e7e6-7d1507f676fc"
      },
      "execution_count": null,
      "outputs": [
        {
          "output_type": "stream",
          "name": "stdout",
          "text": [
            "循环次数: 0\n",
            "n+1\n",
            "循环次数: 1\n",
            "n+1\n",
            "循环次数: 2\n",
            "n+1\n",
            "循环次数: 3\n",
            "n+1\n",
            "循环次数: 4\n",
            "循环次数: 5\n",
            "n+1\n"
          ]
        }
      ]
    },
    {
      "cell_type": "code",
      "source": [
        "# continue/break : continue: skip loop, continue next loop, break: jump"
      ],
      "metadata": {
        "id": "fsEzrp4aj-Cb"
      },
      "execution_count": null,
      "outputs": []
    },
    {
      "cell_type": "code",
      "source": [
        "# 在1 到 20 之间 「1， 20」， 如果是偶数（2， 4， 6， 8， 10），(2 * 2)计算这个数字的平方，并打印输出"
      ],
      "metadata": {
        "id": "8iSfGi6pkkrq"
      },
      "execution_count": null,
      "outputs": []
    },
    {
      "cell_type": "code",
      "source": [
        "for i in range(1, 21):\n",
        "  if i % 2 == 0:\n",
        "    print(i, i ** 2)"
      ],
      "metadata": {
        "id": "q1wt4LRgnJpn",
        "colab": {
          "base_uri": "https://localhost:8080/"
        },
        "outputId": "c7ec2ee3-9b47-4784-fed5-d3016a6d9326"
      },
      "execution_count": null,
      "outputs": [
        {
          "output_type": "stream",
          "name": "stdout",
          "text": [
            "2 4\n",
            "4 16\n",
            "6 36\n",
            "8 64\n",
            "10 100\n",
            "12 144\n",
            "14 196\n",
            "16 256\n",
            "18 324\n",
            "20 400\n"
          ]
        }
      ]
    },
    {
      "cell_type": "code",
      "source": [
        "# 偶数 n % 2 == 0\n",
        "i = 2"
      ],
      "metadata": {
        "id": "slXHylA5ltwg"
      },
      "execution_count": null,
      "outputs": []
    },
    {
      "cell_type": "code",
      "source": [
        "for i in range(1, 21): # 死循环 1， 20\n",
        "  # 偶数\n",
        "  if i % 2 == 0:\n",
        "    print(i * i)\n",
        "  # 奇数\n",
        "  elif i % 2 == 1:\n",
        "    print(i * i * i)"
      ],
      "metadata": {
        "id": "Z61TNZIxlEXi"
      },
      "execution_count": null,
      "outputs": []
    },
    {
      "cell_type": "markdown",
      "source": [
        "### 5️⃣ 课堂练习"
      ],
      "metadata": {
        "id": "YJ0ubfBHlY0z"
      }
    },
    {
      "cell_type": "markdown",
      "source": [
        "#### ✏️ 练习 1：变量练习"
      ],
      "metadata": {
        "id": "nsb5gqhWlap-"
      }
    },
    {
      "cell_type": "code",
      "source": [
        "name = input(\"你的名字：\")\n",
        "city = input(\"你最想去的数据城市：\")\n",
        "print(f\"{name} 想成为一位在 {city} 工作的数据科学家！\")"
      ],
      "metadata": {
        "id": "-41ibkb_lZRy"
      },
      "execution_count": null,
      "outputs": []
    },
    {
      "cell_type": "markdown",
      "source": [
        "#### ✏️ 练习 2：BMI 计算器"
      ],
      "metadata": {
        "id": "RA1Q_PQ2ld1F"
      }
    },
    {
      "cell_type": "code",
      "source": [
        "def calculate_bmi(weight, height): # function\n",
        "    return weight / (height ** 2)\n",
        "\n",
        "bmi = calculate_bmi(60, 1.65)\n",
        "print(\"你的 BMI 为：\", bmi)"
      ],
      "metadata": {
        "id": "FveQMU38lefH"
      },
      "execution_count": null,
      "outputs": []
    },
    {
      "cell_type": "code",
      "source": [
        "import pandas as pd\n",
        "\n",
        "df_movie = pd.read_csv('/content/drive/MyDrive/AI_Lecture/AI_Data_Scientist/dataset/Netflix_Dataset_Movie.csv')\n",
        "print(df_movie.head())"
      ],
      "metadata": {
        "id": "TULDlMfEnYM5"
      },
      "execution_count": null,
      "outputs": []
    },
    {
      "cell_type": "code",
      "source": [
        "# convert df_movie['Year'] to list\n",
        "lst_year = df_movie['Year'].tolist()\n",
        "lst_year"
      ],
      "metadata": {
        "id": "wdcqDmSQ2bf8"
      },
      "execution_count": null,
      "outputs": []
    },
    {
      "cell_type": "code",
      "source": [
        "lst_movie = list(df_movie['Year'])\n",
        "lst_movie"
      ],
      "metadata": {
        "id": "lGr9-T8z10Ph"
      },
      "execution_count": null,
      "outputs": []
    },
    {
      "cell_type": "code",
      "source": [
        "type(lst_movie)"
      ],
      "metadata": {
        "id": "xuJDXe0l2FqK"
      },
      "execution_count": null,
      "outputs": []
    },
    {
      "cell_type": "code",
      "source": [
        "# convert df_movie['Name'] df_movie['Year'] as dictionary\n",
        "movie_dict = df_movie.set_index('Name')['Year'].to_dict()\n",
        "movie_dict"
      ],
      "metadata": {
        "id": "Q7qaulAK2YdK"
      },
      "execution_count": null,
      "outputs": []
    },
    {
      "cell_type": "code",
      "source": [
        "df_rating = pd.read_csv('/content/drive/MyDrive/AI_Lecture/AI_Data_Scientist/dataset/Netflix_Dataset_Rating.csv')\n",
        "print(df_rating.head())"
      ],
      "metadata": {
        "id": "rVxMHItQ1hMg"
      },
      "execution_count": null,
      "outputs": []
    },
    {
      "cell_type": "markdown",
      "source": [
        "### ✅ 本课小结\n",
        "\n",
        "\t•\t✅ Python 是数据科学的核心语言\n",
        "\t•\t✅ 掌握变量、数据类型、输入输出\n",
        "\t•\t✅ 熟悉常用数据结构（list, dict 等）\n",
        "\t•\t✅ 能写简单判断和循环\n"
      ],
      "metadata": {
        "id": "NIPZ5SAZlhRb"
      }
    },
    {
      "cell_type": "code",
      "source": [
        "# 电影数据\n",
        "movies = [\n",
        "    {\"1\": \"Dinosaur Planet\"},\n",
        "    {\"2\":\"Isle of Man TT 2004 Review\"}\n",
        "]\n",
        "\n",
        "# 评分数据\n",
        "ratings = [\n",
        "    {\"User_ID\": 712664, \"Rating\": 5, \"Movie_ID\": 3},\n",
        "    {\"User_ID\": 1331154, \"Rating\": 4, \"Movie_ID\": 3},\n",
        "    {\"User_ID\": 2632461, \"Rating\": 3, \"Movie_ID\": 3},\n",
        "    {\"User_ID\": 44937, \"Rating\": 5, \"Movie_ID\": 3},\n",
        "    {\"User_ID\": 656399, \"Rating\": 4, \"Movie_ID\": 3},\n",
        "]"
      ],
      "metadata": {
        "id": "4kqy-RKDli7_"
      },
      "execution_count": null,
      "outputs": []
    },
    {
      "cell_type": "markdown",
      "source": [
        "### 📌 课后练习题\n",
        "\n",
        "#### ✅ Q1：输出所有电影名称\n",
        "\n",
        "用 for 循环遍历 movies 列表，并打印所有电影的名称（Name 字段）。\n"
      ],
      "metadata": {
        "id": "sLdoUloU3nry"
      }
    },
    {
      "cell_type": "code",
      "source": [
        "movies[:10]"
      ],
      "metadata": {
        "id": "M9g2BcBK983F",
        "colab": {
          "base_uri": "https://localhost:8080/"
        },
        "outputId": "e9f50e43-1072-4ccc-8148-4af3ef71de0a"
      },
      "execution_count": null,
      "outputs": [
        {
          "output_type": "execute_result",
          "data": {
            "text/plain": [
              "[{'1': 'Dinosaur Planet'}, {'2': 'Isle of Man TT 2004 Review'}]"
            ]
          },
          "metadata": {},
          "execution_count": 82
        }
      ]
    },
    {
      "cell_type": "code",
      "source": [
        "type(movies[0])"
      ],
      "metadata": {
        "colab": {
          "base_uri": "https://localhost:8080/"
        },
        "id": "lbhwKUQwDVhX",
        "outputId": "ef69b1ce-956a-4207-f25e-b0ef96e64acd"
      },
      "execution_count": null,
      "outputs": [
        {
          "output_type": "execute_result",
          "data": {
            "text/plain": [
              "dict"
            ]
          },
          "metadata": {},
          "execution_count": 84
        }
      ]
    },
    {
      "cell_type": "code",
      "source": [
        "for movie in movies:\n",
        "  for key, val in movie.items():\n",
        "    print(val)"
      ],
      "metadata": {
        "id": "Ui8bVDJF-LEt",
        "colab": {
          "base_uri": "https://localhost:8080/"
        },
        "outputId": "81b6d158-3e96-4b2d-fbcd-770d2cfaf9e1"
      },
      "execution_count": null,
      "outputs": [
        {
          "output_type": "stream",
          "name": "stdout",
          "text": [
            "Dinosaur Planet\n",
            "Isle of Man TT 2004 Review\n"
          ]
        }
      ]
    },
    {
      "cell_type": "markdown",
      "source": [
        "#### ✅ Q2：找出年份1990 < Year <= 2000 年的电影\n",
        "\n",
        "写一个程序，找出并输出 1990 < Year <= 2000 的所有电影名称。"
      ],
      "metadata": {
        "id": "5U0oswFi3ptb"
      }
    },
    {
      "cell_type": "code",
      "source": [
        "movie_dict = df_movie.set_index('Name')['Year'].to_dict()\n",
        "for name, year in movie_dict.items():\n",
        "  if 1990 < year <= 2000:\n",
        "    print(name)"
      ],
      "metadata": {
        "id": "GP5Kw-77-VSo"
      },
      "execution_count": null,
      "outputs": []
    },
    {
      "cell_type": "markdown",
      "source": [
        "\n",
        "#### ✅ Q3：计算电影 ID 为 3 的平均评分\n",
        "\n",
        "从 ratings 中提取所有 Movie_ID == 3 的评分，并计算平均分（四舍五入保留 1 位小数）。"
      ],
      "metadata": {
        "id": "trr5J9VA3Khl"
      }
    },
    {
      "cell_type": "markdown",
      "source": [
        "提示："
      ],
      "metadata": {
        "id": "ExrDj6cK3OCG"
      }
    },
    {
      "cell_type": "code",
      "source": [
        "df_rating.head(10)"
      ],
      "metadata": {
        "id": "eoM2onYr-h3F"
      },
      "execution_count": null,
      "outputs": []
    },
    {
      "cell_type": "code",
      "source": [
        "ratings_id_3 = df_rating[df_rating['Movie_ID'] == 3]['Rating'].tolist()\n",
        "ratings_id_3[:10]"
      ],
      "metadata": {
        "id": "4iAwzcKk-eGr"
      },
      "execution_count": null,
      "outputs": []
    },
    {
      "cell_type": "code",
      "source": [
        "total = 0\n",
        "count = 0\n",
        "for score in ratings_id_3:\n",
        "    total += score\n",
        "    count += 1\n",
        "average = round(total / count, 1)\n",
        "print(\"Movie_ID == 3 的平分均\", average)"
      ],
      "metadata": {
        "id": "GTSrq6Qv3K7c"
      },
      "execution_count": null,
      "outputs": []
    },
    {
      "cell_type": "markdown",
      "source": [
        "#### ✅ Q4：把评分记录中的电影名也加上（字典合并练习）\n",
        "\n",
        "用 for 循环，将每条评分(rating)记录补充上该电影的名称（来自 movies），并组成一个新列表 ratings_with_name：\n",
        "\n",
        "输出示例："
      ],
      "metadata": {
        "id": "x4Ey8myV3RYc"
      }
    },
    {
      "cell_type": "code",
      "source": [
        "{\n",
        "  'User_ID': 712664,\n",
        "  'Rating': 5,\n",
        "  'Movie_ID': 3,\n",
        "  'Name': 'Character'\n",
        "}"
      ],
      "metadata": {
        "id": "sHJvSoK93TmH"
      },
      "execution_count": null,
      "outputs": []
    },
    {
      "cell_type": "code",
      "source": [
        "movie_dict = df_movie.set_index('Movie_ID')['Name'].to_dict()\n",
        "movie_dict.get(3)"
      ],
      "metadata": {
        "id": "8JVKxcJKAjgr"
      },
      "execution_count": null,
      "outputs": []
    },
    {
      "cell_type": "code",
      "source": [
        "lst_all = []\n",
        "for idx in range(len(df_rating)):\n",
        "  dic_user_rating_movie = {}\n",
        "  # print(df_rating.iloc[idx])\n",
        "  dic_user_rating_movie['User_ID'] = int(df_rating.iloc[idx]['User_ID'])\n",
        "  dic_user_rating_movie['Rating'] = int(df_rating.iloc[idx]['Rating'])\n",
        "\n",
        "  movie_id = df_rating.iloc[idx]['Movie_ID']\n",
        "  dic_user_rating_movie['Movie_ID'] = int(movie_id)\n",
        "  dic_user_rating_movie['Name'] = movie_dict[int(movie_id)]\n",
        "  lst_all.append(dic_user_rating_movie)\n",
        "\n",
        "  if idx > 5000:\n",
        "    break"
      ],
      "metadata": {
        "id": "XMLLgnuz_onK"
      },
      "execution_count": null,
      "outputs": []
    },
    {
      "cell_type": "code",
      "source": [
        "lst_all[:10]"
      ],
      "metadata": {
        "id": "yrkJzjIfAyJt"
      },
      "execution_count": null,
      "outputs": []
    },
    {
      "cell_type": "code",
      "source": [
        "int('123')"
      ],
      "metadata": {
        "id": "MiQAHyvrml8g"
      },
      "execution_count": null,
      "outputs": []
    },
    {
      "cell_type": "markdown",
      "source": [
        "#### ✅ Q5（挑战题）：统计每部电影的评分人数\n",
        "\n",
        "输出格式：\n",
        "\n",
        "\n",
        "\n",
        "```\n",
        "Character: 4人\n",
        "Dinosaur Planet: 0人\n",
        "...\n",
        "```\n",
        "\n",
        "\n",
        "提示：\n",
        "\t•\t用字典统计：{\"Movie_Name\": count}"
      ],
      "metadata": {
        "id": "cXhtWlIQ3VWo"
      }
    },
    {
      "cell_type": "code",
      "source": [
        "import collections"
      ],
      "metadata": {
        "id": "FQXv-9WzBfPq"
      },
      "execution_count": null,
      "outputs": []
    },
    {
      "cell_type": "code",
      "source": [
        "dic_cnt = collections.defaultdict(int) # initialize a dictionary\n",
        "dic_cnt"
      ],
      "metadata": {
        "id": "h0eXKcU6BAs8"
      },
      "execution_count": null,
      "outputs": []
    },
    {
      "cell_type": "code",
      "source": [
        "{key:value} # value --> int (0)"
      ],
      "metadata": {
        "id": "FjyDqQykmzp8"
      },
      "execution_count": null,
      "outputs": []
    },
    {
      "cell_type": "code",
      "source": [
        "for i in range(len(lst_all)):\n",
        "  movie_name = lst_all[i]['Name']\n",
        "  dic_cnt[movie_name] += 1 # dic_cnt[movie_name] = 0\n",
        "dic_cnt"
      ],
      "metadata": {
        "id": "VwvHR3p2A8MK"
      },
      "execution_count": null,
      "outputs": []
    }
  ]
}